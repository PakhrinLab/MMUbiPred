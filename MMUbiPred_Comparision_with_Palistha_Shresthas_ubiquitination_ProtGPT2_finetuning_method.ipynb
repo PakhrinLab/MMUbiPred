{
 "cells": [
  {
   "cell_type": "code",
   "execution_count": 2,
   "id": "51a61793",
   "metadata": {},
   "outputs": [
    {
     "data": {
      "text/plain": [
       "'/homes/t326h379'"
      ]
     },
     "execution_count": 2,
     "metadata": {},
     "output_type": "execute_result"
    }
   ],
   "source": [
    "pwd"
   ]
  },
  {
   "cell_type": "code",
   "execution_count": 2,
   "id": "f1c2aca5",
   "metadata": {},
   "outputs": [
    {
     "name": "stderr",
     "output_type": "stream",
     "text": [
      "2024-12-31 15:43:25.543586: I tensorflow/core/util/port.cc:153] oneDNN custom operations are on. You may see slightly different numerical results due to floating-point round-off errors from different computation orders. To turn them off, set the environment variable `TF_ENABLE_ONEDNN_OPTS=0`.\n",
      "2024-12-31 15:43:25.555537: E external/local_xla/xla/stream_executor/cuda/cuda_fft.cc:485] Unable to register cuFFT factory: Attempting to register factory for plugin cuFFT when one has already been registered\n",
      "2024-12-31 15:43:25.569990: E external/local_xla/xla/stream_executor/cuda/cuda_dnn.cc:8454] Unable to register cuDNN factory: Attempting to register factory for plugin cuDNN when one has already been registered\n",
      "2024-12-31 15:43:25.574288: E external/local_xla/xla/stream_executor/cuda/cuda_blas.cc:1452] Unable to register cuBLAS factory: Attempting to register factory for plugin cuBLAS when one has already been registered\n",
      "2024-12-31 15:43:25.584711: I tensorflow/core/platform/cpu_feature_guard.cc:210] This TensorFlow binary is optimized to use available CPU instructions in performance-critical operations.\n",
      "To enable the following instructions: AVX2 AVX512F AVX512_VNNI FMA, in other operations, rebuild TensorFlow with the appropriate compiler flags.\n",
      "2024-12-31 15:43:26.413786: W tensorflow/compiler/tf2tensorrt/utils/py_utils.cc:38] TF-TRT Warning: Could not find TensorRT\n"
     ]
    }
   ],
   "source": [
    "import numpy as np\n",
    "import tensorflow as tf\n",
    "from tensorflow.keras.models import Model\n",
    "from tensorflow.keras.optimizers import Adam, SGD\n",
    "from tensorflow.keras.callbacks import ModelCheckpoint\n",
    "from tensorflow.keras.preprocessing.sequence import pad_sequences\n",
    "from sklearn.metrics import roc_curve, auc, roc_auc_score,matthews_corrcoef\n",
    "from tensorflow.keras.callbacks import Callback,EarlyStopping\n",
    "import random\n",
    "from tensorflow.keras.layers import *\n",
    "from tensorflow.keras import backend as K\n",
    "import os\n",
    "from sklearn.linear_model import LogisticRegression\n",
    "from sklearn.metrics import roc_auc_score, recall_score, matthews_corrcoef, roc_curve, auc\n",
    "from tensorflow.keras import backend as K\n",
    "import itertools\n",
    "import os\n",
    "import random\n",
    "import tensorflow\n",
    "import tensorflow as tf\n",
    "import matplotlib\n",
    "import matplotlib.pyplot as plt\n",
    "import numpy as np\n",
    "from sklearn import metrics\n",
    "from sklearn import preprocessing\n",
    "from sklearn.model_selection import train_test_split, KFold, cross_val_score\n",
    "from tensorflow.keras.callbacks import ModelCheckpoint\n",
    "from tensorflow.keras.layers import Dense, Activation, Flatten, Dropout, Reshape\n",
    "from tensorflow.keras.layers import Conv1D,Conv2D, MaxPooling2D\n",
    "from tensorflow.keras.models import Sequential,Model\n",
    "from tensorflow.keras import utils\n",
    "from tensorflow.keras import optimizers\n",
    "from tensorflow.keras.optimizers import Adam,SGD\n",
    "from tensorflow.keras.regularizers import l2\n",
    "import copy\n",
    "from sklearn.metrics import roc_auc_score\n",
    "from Bio import SeqIO\n",
    "from tensorflow.keras.models import Sequential\n",
    "from tensorflow.keras.layers import Dense, Dropout, Flatten, Reshape, Lambda, LSTM\n",
    "from tensorflow.keras.layers import Conv1D, MaxPooling1D\n",
    "from tensorflow.keras.layers import Bidirectional, TimeDistributed\n",
    "from tensorflow.keras.callbacks import ModelCheckpoint,ReduceLROnPlateau\n",
    "from numpy import array\n",
    "from numpy import argmax\n",
    "from sklearn.model_selection import train_test_split\n",
    "from imblearn.under_sampling import RandomUnderSampler\n",
    "from sklearn.utils import shuffle\n",
    "from tensorflow.keras import backend as K\n",
    "from tensorflow.keras.backend import expand_dims\n",
    "import matplotlib.pyplot as plt\n",
    "from tensorflow.keras.regularizers import l1, l2\n",
    "from sklearn.metrics import roc_curve, auc, classification_report\n",
    "from tensorflow.keras.models import load_model\n",
    "import pandas as pd\n",
    "from tensorflow.keras.layers import Conv1D,Conv2D, MaxPooling2D,GlobalMaxPooling1D\n",
    "from Bio import SeqIO\n",
    "import random\n",
    "import functools\n",
    "import itertools\n",
    "import os\n",
    "import random\n",
    "import matplotlib\n",
    "import matplotlib.pyplot as plt\n",
    "import numpy as np\n",
    "from sklearn import metrics\n",
    "from sklearn import preprocessing\n",
    "from sklearn.model_selection import train_test_split, KFold, cross_val_score\n",
    "from tensorflow.keras.layers import Dense, Activation, Flatten, Dropout, Reshape, BatchNormalization\n",
    "from tensorflow.keras.layers import Conv1D, Conv2D, MaxPooling2D\n",
    "from tensorflow.keras.models import Sequential, Model\n",
    "from tensorflow.keras import optimizers\n",
    "from tensorflow.keras.optimizers import Adam, SGD\n",
    "from tensorflow.keras.regularizers import l2\n",
    "import copy\n",
    "\n",
    "from sklearn.model_selection import train_test_split\n",
    "from sklearn.ensemble import RandomForestClassifier\n",
    "from sklearn.feature_selection import SelectFromModel\n",
    "from sklearn.svm import SVC\n",
    "from sklearn.metrics import confusion_matrix\n",
    "from sklearn.metrics import matthews_corrcoef\n",
    "from sklearn.utils import shuffle\n",
    "from sklearn.preprocessing import MinMaxScaler\n",
    "from numpy import sort\n",
    "from sklearn.feature_selection import SelectFromModel\n",
    "from sklearn.ensemble import RandomForestClassifier\n",
    "from sklearn.metrics import precision_score, recall_score\n",
    "from sklearn.metrics import *\n",
    "from sklearn.metrics import roc_curve, roc_auc_score, classification_report,auc\n",
    "import tensorflow.keras\n",
    "from sklearn.preprocessing import MinMaxScaler\n",
    "from sklearn.utils import shuffle\n",
    "from tensorflow.keras.layers import Dense, Bidirectional,Dense, LSTM, Activation, Dropout, Flatten, LeakyReLU\n",
    "from sklearn.metrics import accuracy_score\n",
    "from tensorflow.keras.regularizers import l2\n",
    "from tensorflow.keras import regularizers\n",
    "from imblearn.under_sampling import RandomUnderSampler\n",
    "from sklearn.model_selection import GridSearchCV\n",
    "from tensorflow.keras.models import Sequential\n",
    "from tensorflow.keras.models import Sequential \n",
    "from tensorflow.keras.layers import LSTM\n",
    "\n",
    "from tensorflow.keras.models import Model\n",
    "from tensorflow.keras.applications import mobilenet_v2, mobilenet, resnet50, densenet\n",
    "from tensorflow.keras.layers import Dense, MaxPooling2D, Conv2D, Flatten, \\\n",
    "    BatchNormalization, Activation, GlobalAveragePooling2D, DepthwiseConv2D, \\\n",
    "    Dropout, ReLU, Concatenate, Input, add, Conv1D, MaxPooling1D\n",
    "\n",
    "from tensorflow.keras.layers import LSTM, GRU, SimpleRNN\n",
    "\n",
    "\n",
    "from tensorflow.keras.callbacks import ModelCheckpoint\n",
    "from tensorflow.keras import backend as K\n",
    "\n",
    "import matplotlib.pyplot as plt\n",
    "import math\n",
    "from tensorflow.keras.callbacks import CSVLogger\n",
    "from datetime import datetime\n",
    "\n",
    "import os.path\n",
    "from scipy.spatial import distance\n",
    "import scipy.io as sio\n",
    "from sklearn.model_selection import KFold\n",
    "from sklearn.model_selection import StratifiedKFold\n",
    "from sklearn.metrics import accuracy_score\n",
    "import os\n",
    "from sklearn.model_selection import KFold\n",
    "import numpy as np\n",
    "import random\n",
    "from Bio import SeqIO\n",
    "from sklearn.utils import shuffle\n",
    "from sklearn.model_selection import train_test_split\n",
    "from tensorflow.keras.models import Sequential\n",
    "from tensorflow.keras.layers import Dense, Dropout, Flatten, Reshape, Lambda\n",
    "from tensorflow.keras.layers import Conv2D, MaxPooling2D, Conv1D, MaxPooling1D\n",
    "from tensorflow.keras.callbacks import ModelCheckpoint\n",
    "import matplotlib.pyplot as plt\n",
    "from tensorflow.keras.regularizers import l1,l2\n",
    "from tensorflow.keras import backend as K\n",
    "from tensorflow.keras.backend import expand_dims\n",
    "import tensorflow as tf\n",
    "import pandas as pd\n",
    "import pandas as pd\n",
    "import numpy as np\n",
    "import tensorflow as tf\n",
    "from sklearn.utils import shuffle\n",
    "from sklearn.model_selection import train_test_split\n",
    "import tensorflow.keras\n",
    "from tensorflow.keras.models import Sequential \n",
    "from tensorflow.keras.layers import Dense, Dropout, Flatten, Reshape, Lambda\n",
    "from tensorflow.keras.layers import Conv2D, MaxPooling2D\n",
    "from tensorflow.keras.callbacks import ModelCheckpoint\n",
    "import matplotlib.pyplot as plt\n",
    "from tensorflow.keras.regularizers import l1,l2\n",
    "from tensorflow.keras import backend as K\n",
    "from tensorflow.keras.backend import expand_dims\n",
    "import pandas as pd \n",
    "import matplotlib.pyplot as plt\n",
    "from sklearn.model_selection import train_test_split\n",
    "from sklearn.ensemble import RandomForestClassifier\n",
    "from sklearn.feature_selection import SelectFromModel\n",
    "from sklearn.svm import SVC\n",
    "from sklearn.metrics import confusion_matrix\n",
    "from sklearn.metrics import matthews_corrcoef\n",
    "from sklearn.utils import shuffle\n",
    "from sklearn.preprocessing import MinMaxScaler\n",
    "from numpy import sort\n",
    "from sklearn.feature_selection import SelectFromModel\n",
    "from sklearn.ensemble import RandomForestClassifier\n",
    "from sklearn.metrics import precision_score, recall_score\n",
    "from sklearn.metrics import *\n",
    "from sklearn.metrics import roc_curve, roc_auc_score, classification_report,auc\n",
    "import tensorflow.keras\n",
    "from sklearn.model_selection import KFold\n",
    "from sklearn.preprocessing import MinMaxScaler\n",
    "from sklearn.utils import shuffle\n",
    "from tensorflow.keras.layers import Dense, Bidirectional,Dense, LSTM, Activation, Dropout, Flatten, LeakyReLU\n",
    "from sklearn.metrics import accuracy_score\n",
    "from tensorflow.keras.regularizers import l2\n",
    "from tensorflow.keras import regularizers\n",
    "from sklearn.model_selection import GridSearchCV\n",
    "from tensorflow.keras.models import Sequential\n",
    "from tensorflow.keras.models import Sequential \n",
    "from tensorflow.keras.layers import LSTM\n",
    "from tensorflow.keras.regularizers import l1, l2\n",
    "from tensorflow.keras import models,layers,optimizers,regularizers\n",
    "from tensorflow.keras.models import Model\n",
    "from tensorflow.keras.applications import mobilenet_v2, mobilenet, resnet50, densenet\n",
    "from tensorflow.keras.layers import Dense, MaxPooling2D, Conv2D, Flatten, \\\n",
    "    BatchNormalization, Activation, GlobalAveragePooling2D, DepthwiseConv2D, \\\n",
    "    Dropout, ReLU, Concatenate, Input, add, Conv1D, MaxPooling1D\n",
    "\n",
    "from tensorflow.keras.layers import LSTM, GRU, SimpleRNN\n",
    "\n",
    "\n",
    "from tensorflow.keras.callbacks import ModelCheckpoint\n",
    "from tensorflow.keras import backend as K\n",
    "\n",
    "import matplotlib.pyplot as plt\n",
    "import math\n",
    "from tensorflow.keras.callbacks import CSVLogger\n",
    "from datetime import datetime\n",
    "\n",
    "import os.path\n",
    "from scipy.spatial import distance\n",
    "import scipy.io as sio\n",
    "\n",
    "import os \n",
    "\n",
    "import numpy as np\n",
    "import tensorflow as tf\n",
    "from tensorflow.keras.models import Model\n",
    "from tensorflow.keras.optimizers import Adam, SGD\n",
    "from tensorflow.keras.callbacks import ModelCheckpoint\n",
    "from tensorflow.keras.preprocessing.sequence import pad_sequences\n",
    "from sklearn.metrics import roc_curve, auc, roc_auc_score,matthews_corrcoef\n",
    "from tensorflow.keras.callbacks import Callback,EarlyStopping\n",
    "import random\n",
    "from tensorflow.keras.layers import *\n",
    "from tensorflow.keras import backend as K\n",
    "import os\n",
    "from sklearn.linear_model import LogisticRegression\n",
    "from sklearn.metrics import roc_auc_score, recall_score, matthews_corrcoef, roc_curve, auc\n",
    "from tensorflow.keras import backend as K\n",
    "import itertools\n",
    "import os\n",
    "import random\n",
    "import tensorflow\n",
    "import tensorflow as tf\n",
    "import matplotlib\n",
    "import matplotlib.pyplot as plt\n",
    "import numpy as np\n",
    "from sklearn import metrics\n",
    "from sklearn import preprocessing\n",
    "from sklearn.model_selection import train_test_split, KFold, cross_val_score\n",
    "from tensorflow.keras.callbacks import ModelCheckpoint\n",
    "from tensorflow.keras.layers import Dense, Activation, Flatten, Dropout, Reshape\n",
    "from tensorflow.keras.layers import Conv1D,Conv2D, MaxPooling2D\n",
    "from tensorflow.keras.models import Sequential,Model\n",
    "from tensorflow.keras import utils\n",
    "from tensorflow.keras import optimizers\n",
    "from tensorflow.keras.optimizers import Adam,SGD\n",
    "from tensorflow.keras.regularizers import l2\n",
    "import copy\n",
    "from sklearn.metrics import roc_auc_score\n",
    "from Bio import SeqIO\n",
    "from tensorflow.keras.models import Sequential\n",
    "from tensorflow.keras.layers import Dense, Dropout, Flatten, Reshape, Lambda, LSTM\n",
    "from tensorflow.keras.layers import Conv1D, MaxPooling1D\n",
    "from tensorflow.keras.layers import Bidirectional, TimeDistributed\n",
    "from tensorflow.keras.callbacks import ModelCheckpoint,ReduceLROnPlateau\n",
    "from numpy import array\n",
    "from numpy import argmax\n",
    "from sklearn.model_selection import train_test_split\n",
    "from imblearn.under_sampling import RandomUnderSampler\n",
    "from sklearn.utils import shuffle\n",
    "from tensorflow.keras import backend as K\n",
    "from tensorflow.keras.backend import expand_dims\n",
    "import matplotlib.pyplot as plt\n",
    "from tensorflow.keras.regularizers import l1, l2\n",
    "from sklearn.metrics import roc_curve, auc, classification_report\n",
    "from tensorflow.keras.models import load_model\n",
    "import pandas as pd\n",
    "from tensorflow.keras.layers import Conv1D,Conv2D, MaxPooling2D,GlobalMaxPooling1D\n",
    "from Bio import SeqIO\n",
    "import random\n",
    "import functools\n",
    "import itertools\n",
    "import os\n",
    "import random\n",
    "import matplotlib\n",
    "import matplotlib.pyplot as plt\n",
    "import numpy as np\n",
    "from sklearn import metrics\n",
    "from sklearn import preprocessing\n",
    "from sklearn.model_selection import train_test_split, KFold, cross_val_score\n",
    "from tensorflow.keras.layers import Dense, Activation, Flatten, Dropout, Reshape, BatchNormalization\n",
    "from tensorflow.keras.layers import Conv1D, Conv2D, MaxPooling2D\n",
    "from tensorflow.keras.models import Sequential, Model\n",
    "from tensorflow.keras import optimizers\n",
    "from tensorflow.keras.optimizers import Adam, SGD\n",
    "from tensorflow.keras.regularizers import l2\n",
    "import copy\n",
    "from sklearn.model_selection import StratifiedKFold\n",
    "\n",
    "from sklearn.metrics import confusion_matrix\n",
    "from sklearn.metrics import matthews_corrcoef\n",
    "from sklearn.metrics import accuracy_score\n",
    "from sklearn.metrics import precision_score, recall_score\n",
    "from tensorflow.keras import models,layers,optimizers,regularizers"
   ]
  },
  {
   "cell_type": "code",
   "execution_count": 3,
   "id": "d22e23f2",
   "metadata": {},
   "outputs": [],
   "source": [
    "import os\n",
    "os.chdir('/homes/t326h379/Ubiquitination_K')"
   ]
  },
  {
   "cell_type": "code",
   "execution_count": 4,
   "id": "9f4256e0",
   "metadata": {},
   "outputs": [
    {
     "name": "stdout",
     "output_type": "stream",
     "text": [
      "aaindex31.txt  benchmark.csv  training.csv\r\n"
     ]
    }
   ],
   "source": [
    "ls"
   ]
  },
  {
   "cell_type": "code",
   "execution_count": 5,
   "id": "b6098d91",
   "metadata": {},
   "outputs": [],
   "source": [
    "import pandas as pd\n",
    "df_training = pd.read_csv(\"training.csv\")"
   ]
  },
  {
   "cell_type": "code",
   "execution_count": 6,
   "id": "783a826a",
   "metadata": {},
   "outputs": [
    {
     "data": {
      "text/plain": [
       "Label\n",
       "0    415696\n",
       "1    101845\n",
       "Name: count, dtype: int64"
      ]
     },
     "execution_count": 6,
     "metadata": {},
     "output_type": "execute_result"
    }
   ],
   "source": [
    "df_training[\"Label\"].value_counts()"
   ]
  },
  {
   "cell_type": "code",
   "execution_count": 7,
   "id": "4398282a",
   "metadata": {},
   "outputs": [
    {
     "data": {
      "text/plain": [
       "517541"
      ]
     },
     "execution_count": 7,
     "metadata": {},
     "output_type": "execute_result"
    }
   ],
   "source": [
    "415696 + 101845"
   ]
  },
  {
   "cell_type": "code",
   "execution_count": 8,
   "id": "b9b0350f",
   "metadata": {},
   "outputs": [],
   "source": [
    "df_test = pd.read_csv(\"benchmark.csv\")"
   ]
  },
  {
   "cell_type": "code",
   "execution_count": 9,
   "id": "824e3af8",
   "metadata": {},
   "outputs": [
    {
     "data": {
      "text/plain": [
       "Label\n",
       "0    1324\n",
       "1     753\n",
       "Name: count, dtype: int64"
      ]
     },
     "execution_count": 9,
     "metadata": {},
     "output_type": "execute_result"
    }
   ],
   "source": [
    "df_test[\"Label\"].value_counts()"
   ]
  },
  {
   "cell_type": "code",
   "execution_count": 10,
   "id": "a135e587",
   "metadata": {},
   "outputs": [
    {
     "data": {
      "text/plain": [
       "2077"
      ]
     },
     "execution_count": 10,
     "metadata": {},
     "output_type": "execute_result"
    }
   ],
   "source": [
    "1324 + 753"
   ]
  },
  {
   "cell_type": "code",
   "execution_count": 11,
   "id": "dd228448",
   "metadata": {},
   "outputs": [
    {
     "data": {
      "text/html": [
       "<div>\n",
       "<style scoped>\n",
       "    .dataframe tbody tr th:only-of-type {\n",
       "        vertical-align: middle;\n",
       "    }\n",
       "\n",
       "    .dataframe tbody tr th {\n",
       "        vertical-align: top;\n",
       "    }\n",
       "\n",
       "    .dataframe thead th {\n",
       "        text-align: right;\n",
       "    }\n",
       "</style>\n",
       "<table border=\"1\" class=\"dataframe\">\n",
       "  <thead>\n",
       "    <tr style=\"text-align: right;\">\n",
       "      <th></th>\n",
       "      <th>Seq</th>\n",
       "      <th>Label</th>\n",
       "    </tr>\n",
       "  </thead>\n",
       "  <tbody>\n",
       "    <tr>\n",
       "      <th>0</th>\n",
       "      <td>AVSEGTKAVTKFTSS</td>\n",
       "      <td>1</td>\n",
       "    </tr>\n",
       "    <tr>\n",
       "      <th>1</th>\n",
       "      <td>IYKSQAAALEKHAAPNCKVLV</td>\n",
       "      <td>1</td>\n",
       "    </tr>\n",
       "    <tr>\n",
       "      <th>2</th>\n",
       "      <td>TMLKNTVQWRKENKIDELVES</td>\n",
       "      <td>1</td>\n",
       "    </tr>\n",
       "    <tr>\n",
       "      <th>3</th>\n",
       "      <td>IAQKRVFTFGKGRSEGNKGMK</td>\n",
       "      <td>1</td>\n",
       "    </tr>\n",
       "    <tr>\n",
       "      <th>4</th>\n",
       "      <td>VEKTSSGREYKVKDMSQADFG</td>\n",
       "      <td>1</td>\n",
       "    </tr>\n",
       "    <tr>\n",
       "      <th>...</th>\n",
       "      <td>...</td>\n",
       "      <td>...</td>\n",
       "    </tr>\n",
       "    <tr>\n",
       "      <th>517536</th>\n",
       "      <td>HILTHAKAGKKC</td>\n",
       "      <td>0</td>\n",
       "    </tr>\n",
       "    <tr>\n",
       "      <th>517537</th>\n",
       "      <td>MREKSFQCNESGKA</td>\n",
       "      <td>0</td>\n",
       "    </tr>\n",
       "    <tr>\n",
       "      <th>517538</th>\n",
       "      <td>KAFNCSSLLKKCQIIHLGEKK</td>\n",
       "      <td>0</td>\n",
       "    </tr>\n",
       "    <tr>\n",
       "      <th>517539</th>\n",
       "      <td>KKCQIIHLGEKKYKCDICGKV</td>\n",
       "      <td>0</td>\n",
       "    </tr>\n",
       "    <tr>\n",
       "      <th>517540</th>\n",
       "      <td>FSYKSSLVIHKAIHTGEKPHK</td>\n",
       "      <td>0</td>\n",
       "    </tr>\n",
       "  </tbody>\n",
       "</table>\n",
       "<p>517541 rows × 2 columns</p>\n",
       "</div>"
      ],
      "text/plain": [
       "                          Seq  Label\n",
       "0             AVSEGTKAVTKFTSS      1\n",
       "1       IYKSQAAALEKHAAPNCKVLV      1\n",
       "2       TMLKNTVQWRKENKIDELVES      1\n",
       "3       IAQKRVFTFGKGRSEGNKGMK      1\n",
       "4       VEKTSSGREYKVKDMSQADFG      1\n",
       "...                       ...    ...\n",
       "517536           HILTHAKAGKKC      0\n",
       "517537         MREKSFQCNESGKA      0\n",
       "517538  KAFNCSSLLKKCQIIHLGEKK      0\n",
       "517539  KKCQIIHLGEKKYKCDICGKV      0\n",
       "517540  FSYKSSLVIHKAIHTGEKPHK      0\n",
       "\n",
       "[517541 rows x 2 columns]"
      ]
     },
     "execution_count": 11,
     "metadata": {},
     "output_type": "execute_result"
    }
   ],
   "source": [
    "df_training"
   ]
  },
  {
   "cell_type": "code",
   "execution_count": 12,
   "id": "068bbba7",
   "metadata": {},
   "outputs": [],
   "source": [
    "AAindex_Train_AA_Sequence = list(df_training[\"Seq\"])"
   ]
  },
  {
   "cell_type": "code",
   "execution_count": 13,
   "id": "bb806b39",
   "metadata": {},
   "outputs": [
    {
     "data": {
      "text/plain": [
       "21"
      ]
     },
     "execution_count": 13,
     "metadata": {},
     "output_type": "execute_result"
    }
   ],
   "source": [
    "len(AAindex_Train_AA_Sequence[1])"
   ]
  },
  {
   "cell_type": "code",
   "execution_count": 14,
   "id": "a7589910",
   "metadata": {},
   "outputs": [],
   "source": [
    "Refined_Training_Data = []\n",
    "for i in range(len(AAindex_Train_AA_Sequence)):\n",
    "    if AAindex_Train_AA_Sequence[i][10] != \"K\":\n",
    "        pad = 21 - len(AAindex_Train_AA_Sequence[i])\n",
    "        modified_peptide = \"-\"*pad+AAindex_Train_AA_Sequence[i]    \n",
    "        Refined_Training_Data.append(modified_peptide)\n",
    "        \n",
    "#     if AAindex_Train_AA_Sequence[i][10] == \"K\" and len(AAindex_Train_AA_Sequence[i]) < 21:\n",
    "#         pad = 21 - len(AAindex_Train_AA_Sequence[i])\n",
    "#         modified_peptide = AAindex_Train_AA_Sequence[i]+\"-\"*pad\n",
    "#         Refined_Training_Data.append(modified_peptide)\n",
    "        \n",
    "    else:\n",
    "        Refined_Training_Data.append(AAindex_Train_AA_Sequence[i])"
   ]
  },
  {
   "cell_type": "code",
   "execution_count": 15,
   "id": "c5e1d71c",
   "metadata": {},
   "outputs": [],
   "source": [
    "Final_Refined_Training_Data = []\n",
    "for i in range(len(Refined_Training_Data)):       \n",
    "    if Refined_Training_Data[i][10] == \"K\" and len(Refined_Training_Data[i]) < 21:\n",
    "        pad = 21 - len(Refined_Training_Data[i])\n",
    "        modified_peptide = Refined_Training_Data[i]+\"-\"*pad\n",
    "        Final_Refined_Training_Data.append(modified_peptide)\n",
    "        \n",
    "    else:\n",
    "        Final_Refined_Training_Data.append(Refined_Training_Data[i])"
   ]
  },
  {
   "cell_type": "code",
   "execution_count": 16,
   "id": "b4d01492",
   "metadata": {},
   "outputs": [
    {
     "data": {
      "text/plain": [
       "['AVSEGTKAVTKFTSS------',\n",
       " 'IYKSQAAALEKHAAPNCKVLV',\n",
       " 'TMLKNTVQWRKENKIDELVES',\n",
       " 'IAQKRVFTFGKGRSEGNKGMK',\n",
       " 'VEKTSSGREYKVKDMSQADFG',\n",
       " 'KATVVAKPKGKVAAAVAPAKA',\n",
       " 'GKVAAAVAPAKAKAAAKGTKK',\n",
       " 'SRNQRKMLEAKERADLLGRAS',\n",
       " 'SVDKKDPTGAKVTKAAVKKGA',\n",
       " 'KKDPTGAKVTKAAVKKGAK--',\n",
       " 'EFGRIIKTNEKVRALLNDLRY',\n",
       " 'NSSYRLPAFRKCLGLAKSEDN',\n",
       " 'PAFRKCLGLAKSEDNRLCYIN',\n",
       " 'QVLIAPSSASKEKTQGHIREL',\n",
       " 'SIKFNSQSERKSLEETKVPPI',\n",
       " 'WKELSGSSKWKDLLDPLDLDL',\n",
       " 'KKSMEELDSEKSSKDDIDVRL',\n",
       " 'GFVPVVVISSKEGAEEALKTQ',\n",
       " 'HAAVTVLDRWKVSILNQQGKQ',\n",
       " 'WKVSILNQQGKQLQPPKYMNN',\n",
       " 'KILNLLDFTSKRKRMSAIVRD',\n",
       " 'VGADRDEMLEKVSDMMEKELI',\n",
       " 'AQIGINGVVRKPVVLRAMESE',\n",
       " 'LSVSPARKTNKEHLRNLENVL',\n",
       " 'KLLDEQRSNVKVLYTGKSLRL',\n",
       " 'VKPDKPVIDYKTDITGVTAED',\n",
       " 'DDHLKEMEELKEKLKAMEFAI',\n",
       " 'ENRAKGLQLRKYLGAVAFNNI',\n",
       " 'FNNITRLAFGKRFMNAEGVVD',\n",
       " 'DLAALVEKDEKTTKHQRGVSA',\n",
       " 'ALVEKDEKTTKHQRGVSAPET',\n",
       " 'WRSNDGKKEIKDGHMQKGDGL',\n",
       " 'FKYLDLCVDLKRGRFAKDGLI',\n",
       " 'VSARSYAAGAKEMTVRDALNS',\n",
       " 'GKDVTIVTFSKMVGFALKAAE',\n",
       " 'TFSKMVGFALKAAEKLAEEGI',\n",
       " 'MQIFVKTLTGKTITLEVESSD',\n",
       " 'SSDTIDNVKAKIQDKEGIPPD',\n",
       " 'IDNVKAKIQDKEGIPPDQQRL',\n",
       " 'PDQQRLIFAGKQLEDGRTLAD',\n",
       " 'GRTLADYNIQKESTLHLVLRL',\n",
       " 'VGNTAEIRAFKIISEQGIASG',\n",
       " 'KGENLSPIKGKWNFMRKTLAE',\n",
       " 'ADVKEVAETIKSRGMNHKLAE',\n",
       " 'PNIQAVLLPKKTESHHKAKGK',\n",
       " 'EFKEAFSLFDKDGDGTITTKE',\n",
       " 'TQKTVDGPSGKLWRDGRGAAQ',\n",
       " 'ASTGAAKAVGKVIPELNGKLT',\n",
       " 'VGKVIPELNGKLTGMAFRVPT',\n",
       " 'AKYDEIKKVVKQASEGPLKGI',\n",
       " 'QFQNLRQLGSKYILGIAGLFT',\n",
       " 'FARVLEEEENKPNPVTQRVKM',\n",
       " '-----MADNEKLDNQRLKNFK',\n",
       " 'IQLSAVQAARKLLSSDRNPPI',\n",
       " 'LLDKGDFGTQKEAAWAISNLT',\n",
       " 'KLDNQRLKNFKNKGRDLETMR',\n",
       " 'GYPHSYHPSEKCEWLIQAPDP',\n",
       " 'NGHFRGKFCGKIAPPPVVSSG',\n",
       " 'GVIKSPGFPEKYPNSLECTYI',\n",
       " 'LVDGVKLKKDKLNTQSTYSEA',\n",
       " 'KKKWDLSELPKFEKNFYVEHP',\n",
       " 'HSERKIHRDIKAANVLLSEQG',\n",
       " 'SDDWRLDIMLKRKAEEGVRVS',\n",
       " 'SCSDGRTVLNKVGDEIVDRIL',\n",
       " 'VGTERYTSGSKVGTCTLYSVR',\n",
       " 'QELHRDLLRHKVLMSLLPLAR',\n",
       " 'IDTSHRSLILKCSSYRQARWW',\n",
       " 'VNSIKKKVNDKNPHVALYALE',\n",
       " 'GQTVHDEVANKQTMEELKDLL',\n",
       " 'VANKQTMEELKDLLKRQVEVN',\n",
       " 'QTMEELKDLLKRQVEVNVRNK',\n",
       " 'AHAFRNEPKYKVVQDTYQIMK',\n",
       " 'KVVQDTYQIMKVEGHVFPEFK',\n",
       " 'KVEGHVFPEFKESDAMFAAER',\n",
       " 'CRACGQIFCGKCSSKYSTIPK',\n",
       " 'GQIFCGKCSSKYSTIPKFGIE',\n",
       " 'KCSSKYSTIPKFGIEKEVRVC',\n",
       " 'YSTIPKFGIEKEVRVCEPCYE',\n",
       " 'CEPCYEQLNRKAEGKATSTTE',\n",
       " 'YEQLNRKAEGKATSTTELPPE',\n",
       " 'PLSQQSQLPPKRDETALQEEE',\n",
       " 'LALSQSEAEEKERLRQKSTYT',\n",
       " 'RQKSTYTSYPKAEPMPSASSA',\n",
       " 'ARYLNRNYWEKKQEEARKSPT',\n",
       " 'RRLYYEGLQDKLAQIRDARGA',\n",
       " 'ERQRQIQLAQKLEIMRQKKQE',\n",
       " 'AQKLEIMRQKKQEYLEVQRQL',\n",
       " 'LAIQRLQEQEKERQMRLEQQK',\n",
       " 'NLLLDERDNLKISDFGLATVF',\n",
       " 'GVSESPSGFSKHIQSNLDFSP',\n",
       " 'VNSASSEENVKYSSSQPEPRT',\n",
       " 'LVKRMTRFFTKLDADKSYQCL',\n",
       " 'SYQCLKETCEKLGYQWKKSCM',\n",
       " 'FKVNLLEMDDKILVDFRLSKG',\n",
       " 'REEELGEYYMKKYAKSSVGET',\n",
       " 'ERATAISLMRKFIAYQFTDTP',\n",
       " 'YQFTDTPLQIKSVVAPEHVKG',\n",
       " 'VKGYIYVEAYKQTHVKQAIEG',\n",
       " 'GYWNQQMVPIKEMTDVLKVVK',\n",
       " 'VEPSQNTISLKMIPRIDYDRI',\n",
       " 'YDRIKARMSLKDWFAKRKKFK',\n",
       " 'TRHLVLAGGSKPRDVTNFTVG',\n",
       " 'QTVRISQGPYKGYIGVVKDAT',\n",
       " 'SEHLEPITPTKNNKVKVILGE',\n",
       " 'LGEYYMKKYAKSSVGETVYGG',\n",
       " 'ITQQQLLPGVKDPNLWTVKCK',\n",
       " 'LKVVKEVANLKPKSWVRLKRG',\n",
       " 'SWVRLKRGIYKDDIAQVDYVE',\n",
       " 'RPPQRLFDAEKIRSLGGDVAS',\n",
       " 'AMSAVITEGVKPTLSELEKFE',\n",
       " 'DLEVVTESTGKEREHNFQPGD',\n",
       " 'CEGELINLQGKILSVDGNKIT',\n",
       " 'ITIMPKHEDLKDMLEFPAQEL',\n",
       " 'FPAQELRKYFKMGDHVKVIAG',\n",
       " 'LDSEQNNIHVKDIVKVIDGPH',\n",
       " 'VTGGMCSVYLKDSEKVVSISS',\n",
       " 'IVRMDLDEQLKILNLRFLGKL',\n",
       " 'MIPRIDYDRIKARMSLKDWFA',\n",
       " 'ARMSLKDWFAKRKKFKRPPQR',\n",
       " 'ETFQVLNMYGKVVTVRHQAVT',\n",
       " 'QGKILSVDGNKITIMPKHEDL',\n",
       " 'LFSDLTMHELKVLPRDLQLCS',\n",
       " 'QNNIHVKDIVKVIDGPHSGRE',\n",
       " 'DPRILMAINGKVFDVTKGRKF',\n",
       " 'AINGKVFDVTKGRKFYGPEGP',\n",
       " 'SRGLATFCLDKEALKDEYDDL',\n",
       " 'FKYHHVGKLLKEGEEPTVYSD',\n",
       " 'FIHNKEVYHEKDIKVFFDKAK',\n",
       " 'NKEVYHEKDIKVFFDKAKHEI',\n",
       " 'DGINSIGGGQKVRLMKEVMEH',\n",
       " 'FAADGILWPDKRLADKYPVVH',\n",
       " 'ILWPDKRLADKYPVVHIGKRY',\n",
       " 'FYTKVYIDPLKREAINITLDH',\n",
       " 'LKFENGKARAKNTFYETLPVA',\n",
       " 'LTLDYPKEALKLFIHNKEVYH',\n",
       " 'KEALKLFIHNKEVYHEKDIKV',\n",
       " 'HEKDIKVFFDKAKHEIKTIKI',\n",
       " 'VFFDKAKHEIKTIKIVGPEEN',\n",
       " 'DKAKHEIKTIKIVGPEENLSQ',\n",
       " 'TLKILIEQNRKIIAPLVTRHG',\n",
       " 'MNERNYFVRDKLDPDMALCRN',\n",
       " 'IFENPVDWKEKYINRDYSKIF',\n",
       " 'ELVEEMEHYGKWSGGKHHDSR',\n",
       " 'MEHYGKWSGGKHHDSRISGGY',\n",
       " '--MAGFGAMEKFLVEYKSAVE',\n",
       " 'GAMEKFLVEYKSAVEKKLAEY',\n",
       " 'SAVEKKLAEYKCNTNTAIELK',\n",
       " 'KCNTNTAIELKLVRFPEDLEN',\n",
       " 'FGDDETAFGYKGLKILLYYIA',\n",
       " 'DCVEADDVEGKIRQIIPPGFC',\n",
       " 'VLDITAEDPSKSYVKLRDFVL',\n",
       " 'CQDLPCFSREKLMQGFNEDMA',\n",
       " 'NEDMAIEAQQKFKINKQHARR',\n",
       " 'FLVEYKSAVEKKLAEYKCNTN',\n",
       " 'TAEDPSKSYVKLRDFVLVKLC',\n",
       " 'IEAQQKFKINKQHARRVYEIL',\n",
       " 'IKRRLISPYKKKQRDLAKMRK',\n",
       " 'DETAFGYKGLKILLYYIAGSL',\n",
       " 'STMFRVEYASKVDENFDCVEA',\n",
       " 'DPSRGKASADKQKGVPVKQNT',\n",
       " 'VKKASHEDVVKLIGKCSGVLH',\n",
       " 'KGWLKPKLDSKALGINRAERV',\n",
       " 'INNPNPNMLSKEEISKVIHDD',\n",
       " 'MHDCVQLSTDKAGVVAEYPAE',\n",
       " 'REIFSKFLCSKATTPVNIDSQ',\n",
       " 'MKFDSYTRFLKSPLYQECILA',\n",
       " 'SGLLVRLSGEKEPLDLGAPIS',\n",
       " 'SADKQKGVPVKQNTAVNSSSR',\n",
       " 'RADDQRGLLRKEDLVLPEFLR',\n",
       " 'VLEEKDPSRGKASADKQKGVP',\n",
       " 'HENRIIHRDLKPENIVLQQGE',\n",
       " 'LQQGEQRLIHKIIDLGYAKEL',\n",
       " 'ESVSCILQEPKRNLAFFQLRK',\n",
       " 'VDLQRSPMGRKQGGTLDDLEE',\n",
       " 'VTEDESLQSLKARIQQDTGIP',\n",
       " 'QEAGLALIPDKPATQCISDGK',\n",
       " 'NLLRNNSCLSKMKNSMASMSQ',\n",
       " 'EQTEFGITSDKLLLAWREMEQ',\n",
       " 'LLLQAIQSFEKKVRVIYTQLS',\n",
       " 'CKQKALELLPKVEEVVSLMNE',\n",
       " 'LWNLLKIACSKVRGPVSGSPD',\n",
       " 'VELCGRENEVKLLVERMMALQ',\n",
       " 'RLVEPGSPAEKAGLLAGDRLV',\n",
       " 'VDPETDEQLQKLGVQVREELL',\n",
       " 'LVEVNGENVEKETHQQVVSRI',\n",
       " 'SGYGFNLHSDKSKPGQFIRSV',\n",
       " 'SAIRAGGDETKLLVVDRETDE',\n",
       " 'SKRAPQMDWSKKNELFSNL--',\n",
       " 'RELRPRLCTMKKGPSGYGFNL',\n",
       " 'VDRETDEFFKKCRVIPSQEHL',\n",
       " 'RYMVNLQVKGKPVHLHIWDTA',\n",
       " 'AKLQATAVGPKDLRSAMGEGG',\n",
       " 'EILKTLGPILKKIICDGSASM',\n",
       " 'VSRNANLSTIKQLLWHRAQYE',\n",
       " 'LYEHEKDLVWKLRHEVQEHFP',\n",
       " 'SDTIANIQLNKSNMAATAAFN',\n",
       " 'LSCSKDIQYLKDSLALGKTEE',\n",
       " 'VQDGLSDIAEKFLKKDQSDET',\n",
       " 'MQELRSQDVNKQGLYTPQTKE',\n",
       " 'SMKSLQAPSVKDFLKIFTFLY',\n",
       " 'LKDLFNVDAFKLESLEAKNRA',\n",
       " 'LESHSAILDQKLNGLNEEIAR',\n",
       " 'TRLQNIIDNQKYSVADIERIN',\n",
       " 'WNEELKYARGKEAIETQLAEY',\n",
       " 'KYRAQVYVPLKELLNETEEEI',\n",
       " 'ASADLSPYVRKNAAHAIQKLY',\n",
       " 'LIGENCERVPKIAPDVLRKMA',\n",
       " 'IAPDVLRKMAKSFTSEDDLVK',\n",
       " 'KLYLTNSKQTKLLTQYILNLG',\n",
       " 'KSGALSKYAKKIFLAQKPAPL',\n",
       " 'KYAKKIFLAQKPAPLLESPFK',\n",
       " 'VRNVEVIELAKEWTPAGKAKQ',\n",
       " 'VPNVKSGALSKYAKKIFLAQK',\n",
       " 'QSAAATAKGPKGALSPGGFDD',\n",
       " 'FDDSTLPLVDKSLEGEKTGSR',\n",
       " 'QKRALDIDVEKLTQAELEKLL',\n",
       " 'KLLLDDSFETKKTPVLPVTPI',\n",
       " 'VSTDMAKLFDKIASTSEFLKN',\n",
       " 'ARTDLEITDSKVSNLQVSPKS',\n",
       " 'SKVSNLQVSPKSEDISKFDWL',\n",
       " 'QVSPKSEDISKFDWLDLDPLS',\n",
       " 'FDWLDLDPLSKPKVDNVEVLD',\n",
       " 'EEKNVSSLLAKDPWDAVLLEE',\n",
       " 'NQHRAVDQVIKAVRKICSALD',\n",
       " 'LKRAVNLPRSKTADVTSLFGG',\n",
       " 'HNLETLENDIKGKLLDILHKD',\n",
       " 'IKGKLLDILHKDSSLGLSKED',\n",
       " 'LHKDSSLGLSKEDKAFLWEKR',\n",
       " 'MIKIMDKIWLKEGLDLRMVIF',\n",
       " 'KDKPLAEWLRKYNPSEEEYEK',\n",
       " 'MGVMFTPLTVKYAYYDTERIG',\n",
       " 'DEVAVDMEFAKNMYELHKKVS',\n",
       " 'EFAKNMYELHKKVSPNELILG',\n",
       " 'VIGTLLGTVDKHSVEVTNCFS',\n",
       " 'TERIGVDLIMKTCFSPNRVIG',\n",
       " 'IDTGFTLPFYKRMLNKRPTLK',\n",
       " 'PGAYDRSFRWKYHQFRFLCHS',\n",
       " 'AELQELQPSAKDFEVRSLVGC',\n",
       " 'NSPPPFVPTLKSDDDTSNFDE',\n",
       " 'ECSQPALMKIKHVSNFVRKYS',\n",
       " 'KIKHVSNFVRKYSDTIAELQE',\n",
       " 'IKLVDFGSAAKMNSNKMVNAK',\n",
       " 'FGSAAKMNSNKMVNAKLPIGT',\n",
       " 'SLLCGQKERLKFEGLCCHPFF',\n",
       " 'ELQDSQDKCHKMEQEMTRLHR',\n",
       " 'VSEVEAVLSQKEVELKASETQ',\n",
       " 'ATYITECSSLKRSLEQARMEV',\n",
       " 'REQSRKLQEIKEQEYQAQVEE',\n",
       " 'RESRLAAEEFKRKATECQHKL',\n",
       " 'QKFYLETQAGKLEAQNRKLEE',\n",
       " 'LEMNARSLQQKLETERELKQR',\n",
       " 'LKQRLLEEQAKLQQQMDLQKN',\n",
       " 'AKLQQQMDLQKNHIFRLTQGL',\n",
       " 'QTKLIDFLQAKMDQPAKKKKG',\n",
       " 'TQVPLQYNELKLALEKEKARC',\n",
       " 'HLMGYVHRDIKPENILVDRTG',\n",
       " 'REVSLEHEEQKLELKRQLTEL',\n",
       " 'LEHEEQKLELKRQLTELQLSL',\n",
       " 'AEILALQQALKEQKLKAESLS',\n",
       " 'RELQRMLDTEKQSRARADQRI',\n",
       " 'EAWRSVLGDEKSQFECRVREL',\n",
       " 'LALQQALKEQKLKAESLSDKL',\n",
       " 'STAARTFYLIKDIRFLLHEPI',\n",
       " 'RFLLHEPIVNKFREYKVFVRK',\n",
       " 'FVRKLRKAYGKSEWNTVERLK',\n",
       " 'EKHKKLFEGLKFFLNREVPRE',\n",
       " 'EGDYVPPEKLKLLALQRGEDP',\n",
       " 'RLAQEEESEAKRLAIMMMKKR',\n",
       " 'GPWGFRLVGGKDFEQPLAISR',\n",
       " 'QKPPIIHRDLKVENLLLSNQG',\n",
       " 'EIAAARNVNPKSPITELLEQN',\n",
       " 'FPAEGVESALKNNIEDVRLFL',\n",
       " 'AAVEEILPSLKKDDVSIYYVS',\n",
       " 'QKKIITYDLIKYDVEKDEPVR',\n",
       " 'DENGYCVRVPKGEVGLLVCKI',\n",
       " 'LTPFNGYAGAKAQTEKKKLRD',\n",
       " 'AVGRVNYLQKKIITYDLIKYD',\n",
       " 'TYDLIKYDVEKDEPVRDENGY',\n",
       " 'KMKENHEFDGKKLFQHIADYL',\n",
       " 'IEITGTFKHRKMTLVEEGFNP',\n",
       " 'VEEGFNPAVIKDALYFLDDTA',\n",
       " 'DALYFLDDTAKMYVPMTEDIY',\n",
       " 'TEDIYNAISAKTLKL------',\n",
       " 'LLRYLCNSPQKPNDRDHKVRL',\n",
       " 'SPQKPNDRDHKVRLALGNGLR',\n",
       " 'GYAGAKAQTEKKKLRDVFKKG',\n",
       " 'GTEAAAATPSKVWGSSAGRIE',\n",
       " 'DQLMRQLDLTKNEIDVVRAGT',\n",
       " 'ERMEERHAREKIQDLLVDSGK',\n",
       " 'RGCPRGMVKVKDCTPWSDIEC',\n",
       " 'KIQDLLVDSGKFIYLEDGTGS',\n",
       " 'TTTRNTACQCKPGTFRNDNSA',\n",
       " 'HHVEMARERSKTVTSFYNQSA',\n",
       " 'VLKQRRRLTMKDIGTPEAWRV',\n",
       " 'LISKFDKLPVKIVQKNDPFVV',\n",
       " 'NDPFVVDCSDKLGRVQEFDSG',\n",
       " 'LATPPFSRLEKLYSTMVRFLS',\n",
       " 'SSTTTNEKITKLYELGGEPER',\n",
       " 'KEIGGLTQVNKNKKWRELATN',\n",
       " 'FNDGSDSTFQKRNSMTPNPGY',\n",
       " 'PHAPCPPAPRKHVTTAEGTPG',\n",
       " 'KSSEAIKESSKFPFGISPAQS',\n",
       " 'ISPAQSHRNIKILEDEPHSKD',\n",
       " 'IKILEDEPHSKDETPLCTLLD',\n",
       " 'TLLDWQDSLAKRCVCVSNTIR',\n",
       " 'ILGKLILLHHKHPERKQAPLT',\n",
       " 'ILLHHKHPERKQAPLTYEKEE',\n",
       " 'MMGRMSYEPNKDPYGSMRKAP',\n",
       " 'PPPPPPSELKKAEQQQREEAG',\n",
       " 'EDGAKSSEAIKESSKFPFGIS',\n",
       " 'FEIGRPLGKGKFGNVYLAREK',\n",
       " 'VKATAPVGGPKRVLVTQQFPC',\n",
       " 'SRPLNNTQKSKQPLPSAPENN',\n",
       " 'ENNPEEELASKQKNEESKKRQ',\n",
       " 'TVYRELQKLSKFDEQRTATYI',\n",
       " 'LANALSYCHSKRVIHRDIKPE',\n",
       " 'HSKRVIHRDIKPENLLLGSAG',\n",
       " '------MDRSKENCISGPVKA',\n",
       " 'SKENCISGPVKATAPVGGPKR',\n",
       " 'LKVLFKAQLEKAGVEHQLRRE',\n",
       " 'FTPEEMEKYSKLQQAAQQHIQ',\n",
       " 'QQHIQQQLLAKQVKAFPASAA',\n",
       " 'IQQQLLAKQVKAFPASAALAP',\n",
       " 'SDNIGHRLLQKHGWKLGQGLG',\n",
       " 'GHRLLQKHGWKLGQGLGKSLQ',\n",
       " 'DGGSLASTLSKLKRMKREEGA',\n",
       " 'TERRRVLEVEKEDTEELRQKY',\n",
       " 'KKDDGRGDDSKATGPPSQNSN',\n",
       " 'PITFTPEEMEKYSKLQQAAQQ',\n",
       " 'STPAPPKKDIKGSYVSIHSSG',\n",
       " 'HSSGFRDFLLKPELLRAIVDC',\n",
       " 'ILGMDVLCQAKSGMGKTAVFV',\n",
       " 'HTRELAFQISKEYERFSKYMP',\n",
       " 'QISKEYERFSKYMPSVKVSVF',\n",
       " 'VSVFFGGLSIKKDEEVLKKNC',\n",
       " 'LSIKKDEEVLKKNCPHVVVGT',\n",
       " 'ALVRNRSFSLKNVKHFVLDEC',\n",
       " 'VKHFVLDECDKMLEQLDMRRD',\n",
       " 'QEIFRLTPHEKQCMMFSATLS',\n",
       " 'LSKDIRPVCRKFMQDPMEVFV',\n",
       " 'PMEVFVDDETKLTLHGLQQYY',\n",
       " 'TLHGLQQYYVKLKDSEKNRKL',\n",
       " 'EERLSRYQQFKDFQRRILVAT',\n",
       " 'RVARAGRFGTKGLAITFVSDE',\n",
       " 'APQESTPAPPKKDIKGSYVSI',\n",
       " 'QYYVKLKDSEKNRKLFDLLDV',\n",
       " 'EQEYIKLNQQKTAEEENPEHV',\n",
       " 'DALSNFHFIPKPPVPEIKVVS',\n",
       " 'FLTIQEGLASKFTSLTKVLYD',\n",
       " 'KPREKSIVDDKFFKLSEMEAY',\n",
       " 'KMNEKIASLEKELLEKKPWQL',\n",
       " 'KRLTLDHEKSKLSLAEIYEQE',\n",
       " 'LAEIYEQEYIKLNQQKTAEEE',\n",
       " 'EENPEHVEIQKMMDSLFLKLD',\n",
       " 'WDDVVRKEKPKEDAYEYKKRL',\n",
       " 'RLLLETHLPSKKKKVLLGVGD',\n",
       " 'LETHLPSKKKKVLLGVGDPKI',\n",
       " 'VKGLTDLSACKAQLGLGHSYS',\n",
       " 'KLEELTMDGAKAKAILDASRS',\n",
       " 'RQSLHTYLRSKMSQVAPSLSA',\n",
       " 'AHAGSLTNLAKYPASTVQILG',\n",
       " 'ASTVQILGAEKALFRALKTRG',\n",
       " 'KGRISRYLANKCSIASRIDCF',\n",
       " 'SEVPTSVFGEKLREQVEERLS',\n",
       " 'LGHSYSRAKVKFNVNRVDNMI',\n",
       " 'QVEESVLNLGKFHSIVRLVAF',\n",
       " 'GVRLHFHNLVKGLTDLSACKA',\n",
       " 'IGNRRELNEDKLEKLEELTMD',\n",
       " 'RRELNEDKLEKLEELTMDGAK',\n",
       " 'EELTMDGAKAKAILDASRSSM',\n",
       " 'SFYETGEIPRKNLDVMKEAMV',\n",
       " 'EIPRKNLDVMKEAMVQAEEAA',\n",
       " 'AEEAAAEITRKLEKQEKKRLK',\n",
       " 'SKPKKKKSFSKEELMSSDLEE',\n",
       " 'AAAEITRKLEKQEKKRLKKEK',\n",
       " 'LLETHLPSKKKKVLLGVGDPK',\n",
       " 'VSSGPEEAVGKSSSKKKKKFH',\n",
       " 'YPSLEDLKVDKVIQAQTAFSA',\n",
       " 'HKVLKQAFGEKITMTIRDRPF',\n",
       " 'FKNGKITSIVKDSSAARNGLL',\n",
       " 'PSRVLQNGGDKLETMPLYLED',\n",
       " 'YLEDDIRPDIKDDIYDPTYKD',\n",
       " 'IKDDIYDPTYKDKEGPSPKVE',\n",
       " 'TYKDKEGPSPKVEYVWRNIIL',\n",
       " 'EWARDHRAHHKFSETHADPHN',\n",
       " 'FSHVGWLLVRKHPAVKEKGST',\n",
       " 'LVRKHPAVKEKGSTLDLSDLE',\n",
       " 'TLDLSDLEAEKLVMFQRRYYK',\n",
       " 'AALGLAYDRKKVSKAAILARI',\n",
       " 'GLAYDRKKVSKAAILARIKRT',\n",
       " 'RIKRTGDGNYKSG--------',\n",
       " 'MAALGLAYDRKKVSKAAILAR',\n",
       " 'ITSENPDEGFKPSSGTVQELN',\n",
       " 'TRFGGDRVIEKVLIANNGIAA',\n",
       " 'KASRYIENVLKPHQEMKLRKL',\n",
       " 'GEAWKLSSGHKLGGDEGTSQT',\n",
       " 'PSAPSLQPSRKLSPTEPKNYG',\n",
       " 'PSRKLSPTEPKNYGSYSTQAS',\n",
       " 'SAAAATAELLKKQEELNRKAE',\n",
       " 'AAAATAELLKKQEELNRKAEE',\n",
       " 'LLKKQEELNRKAEELDRRERE',\n",
       " 'LYRRTGASFQKAQQEFAAGVF',\n",
       " 'QKSMKGFYFAKLYYEAKEYDL',\n",
       " 'FYFAKLYYEAKEYDLAKKYIC',\n",
       " 'RRSVELNPTQKDLVLKIAELL',\n",
       " 'LKEVVETFANKIGQSALYDAL',\n",
       " 'TSFLGSDDIGKIDVQEPELED',\n",
       " 'DDGDSNLSVVKKLPVPLESVK',\n",
       " 'EPGNQEKKREKPLENDTGFQA',\n",
       " 'QWKERGLGNLKILKNEVNGKL',\n",
       " 'FKTPELAEEFKQKFEECQRLL',\n",
       " 'EEMKSGLKDFKTFLTNDQTKV',\n",
       " 'FKTFLTNDQTKVTEEENKGSG',\n",
       " 'QWKERGIGDIKILQNYDNKQV',\n",
       " 'RIVMRRDQVLKLCANHRITPD',\n",
       " 'ITPDMSLQNMKGTERVWVWTA',\n",
       " 'RKVEHLAVRFKLQDVADSFKK',\n",
       " 'ESVKRIFSSEKSKPFVFGNSS',\n",
       " 'VKRIFSSEKSKPFVFGNSSAT',\n",
       " 'SSVAQSGSESKVEPKKCELSK',\n",
       " 'MLQLSPEEKGKLAAVAQDEEE',\n",
       " 'RRQRLAELQAKHGDPGDAAQQ',\n",
       " 'DPGDAAQQEAKHREAEMRNSI',\n",
       " 'RARLSNLALVKPEKTKAVENY',\n",
       " 'NLALVKPEKTKAVENYLIQMA',\n",
       " 'VSEQGLIEILKKVSQQTEKTT',\n",
       " 'SEQGLIEILKKVSQQTEKTTT',\n",
       " 'ILKKVSQQTEKTTTVKFNRRK',\n",
       " 'SQQTEKTTTVKFNRRKVMDSD',\n",
       " 'KTTTVKFNRRKVMDSDEDDDY',\n",
       " 'QMARYGQLSEKVSEQGLIEIL',\n",
       " 'REEKKFNGDSKVSISFENYRK',\n",
       " 'DTRDDPYRPAKPVPTPKKGFI',\n",
       " 'KLSNHVFNALKQHAYSEERRS',\n",
       " 'SKVIPTECAIKVFKTTLNEFK',\n",
       " 'KVFKTTLNEFKNRDKYIKDDF',\n",
       " 'DDFRFKDRFSKLNPRKIIRMW',\n",
       " 'DCRNVSQFFQKGGVKEALSER',\n",
       " 'VSQFFQKGGVKEALSERELFN',\n",
       " 'KNGRKAASFLKDDGDPPLLYD',\n",
       " 'RSMESIEIDQKLQEIMKQTGY',\n",
       " 'EKHGVIHRDVKPSNILLDERG',\n",
       " 'KDHRKRPKYNKLLEHSFIKRY',\n",
       " 'NPVLEAFGNAKTLRNDNSSRF',\n",
       " 'EALTHRKIIAKGEELLSPLNL',\n",
       " 'VGKINRSLASKDVESPSWRST',\n",
       " 'RNLKETMCSSKNPIMSQCFDR',\n",
       " 'LLQLVEILQSKEPAYVRCIKP',\n",
       " 'GRTKIFIRFPKTLFATEDALE',\n",
       " 'LEVRRQSLATKIQAAWRGFHW',\n",
       " 'KYCRSISPEWKQQLQQKAVAS',\n",
       " 'FDEVLIRHQVKYLGLLENLRV',\n",
       " 'VAVLVRHLGYKPEEYKMGRTK',\n",
       " 'NKIICDLVEEKFKGIISILDE',\n",
       " 'GGHILSYLLEKSRVVHQNHGE',\n",
       " 'YLYLVKGQCAKVSSINDKSDW',\n",
       " 'QCAKVSSINDKSDWKVVRKAL',\n",
       " 'QAAYARDALAKAVYSRTFTWL',\n",
       " 'GEATDLTFLEKLEDTVKHHPH',\n",
       " 'TFLEKLEDTVKHHPHFLTHKL',\n",
       " 'VKHHPHFLTHKLADQRTRKSL',\n",
       " 'KNNDLLFRNLKETMCSSKNPI',\n",
       " 'CFDRSELSDKKRPETVATQFK',\n",
       " 'YVRCIKPNDAKQPGRFDEVLI',\n",
       " 'RKYEAFLQRYKSLCPETWPTW',\n",
       " 'SPEWKQQLQQKAVASEIFKGK',\n",
       " 'QQKAVASEIFKGKKDNYPQSV',\n",
       " 'QSDHVIETLTKTALSANRVNS',\n",
       " 'FTPGSELLITKAKNGHLAVVA',\n",
       " 'VMISGESGAGKTEATKRLLQF',\n",
       " 'ESGAGKTEATKRLLQFYAETC',\n",
       " 'SKEPAYVRCIKPNDAKQPGRF',\n",
       " 'FRSKDHKKRLKQLSVEPYSQE',\n",
       " 'CDLELSILKLKEHEDYCGART',\n",
       " 'CGRNVLVKDLKTHPEVCGREG',\n",
       " 'GCQPSSPCVPKLSNSDSQDIQ',\n",
       " '-----MVTHSKFPAAGMSRPL',\n",
       " 'NREATKGFYDKDSSGWSSSKD',\n",
       " 'GSRGDRSGFGKFERGGNSRWC',\n",
       " 'TRYTRPTPVQKHAIPIIKEKR',\n",
       " 'MKENGRYGRRKQYPISLVLAP',\n",
       " 'GRLVDMMERGKIGLDFCKYLV',\n",
       " 'AARGLDISNVKHVINFDLPSD',\n",
       " 'FFNERNINITKDLLDLLVEAK',\n",
       " 'TTLGLSSYQQKSISLYRGNCR',\n",
       " 'GTTENLRVAGKLPGPGSSLRF',\n",
       " 'LRFKITEALLKDCTDSLKLRE',\n",
       " 'LKLREPNFTLKRTFKVENTGQ',\n",
       " 'ALLKDCTDSLKLREPNFTLKR',\n",
       " 'EPNFTLKRTFKVENTGQLQIH',\n",
       " 'LNPTQKDLVLKIAELLCKNDV',\n",
       " 'LVLKIAELLCKNDVTDGRAEY',\n",
       " 'RAEYWVERAAKLFPGSPAIYK',\n",
       " 'HYWKKVLPLLKIIKKKNSIPE',\n",
       " 'VLPLLKIIKKKNSIPEPIDPL',\n",
       " 'NFKGFSGAGEKLFSSQYGKMA',\n",
       " 'KLFPGSPAIYKLKEQLLDCEG',\n",
       " 'QVPRPKIKLIKGEAGQNLLEM',\n",
       " 'EYIGRSVHYWKKVLPLLKIIK',\n",
       " 'SPTKYSLSPSKSYKYSPKTPP',\n",
       " 'LRPAANVTPTKGSSNTEFKST',\n",
       " 'GSSNTEFKSTKEGFSIPVSAD',\n",
       " 'FGISEPGNQEKKSEKPLENDT',\n",
       " 'STSGEGFQFGKKDLNFKGFSG',\n",
       " 'HFEPVVQMPEKVELVTGEEGE',\n",
       " 'VELVTGEEGEKVLYSQGVKLF',\n",
       " 'GEKVLYSQGVKLFRFDAEVSQ',\n",
       " 'FRFDAEVSQWKERGLGNLKIL',\n",
       " 'AKLERLAAKFKTPELAEEFKQ',\n",
       " 'LLDIPLQTPHKLVDTGRAAKL',\n",
       " 'HKLVDTGRAAKLIQRAEEMKS',\n",
       " 'AKLIQRAEEMKSGLKDFKTFL',\n",
       " 'SALSLSKSPAKLNQSGTSVGT',\n",
       " 'KLQDVADSFKKIFDEAKTAQE',\n",
       " 'DSFKKIFDEAKTAQEKDSLIT',\n",
       " 'IFDEAKTAQEKDSLITPHVSR',\n",
       " 'DIEQSSDSKVKNLSASFPTEE',\n",
       " 'AVLMEQIKLLKSEIRRLERNQ',\n",
       " 'ERGLGNLKILKNEVNGKVRML',\n",
       " 'QSGSESKVEPKKCELSKNSDI',\n",
       " 'LKVVVETFANKSGQSALYDAL',\n",
       " 'KKVLPLLKIIKKKNSIPEPID',\n",
       " 'KVLPLLKIIKKKNSIPEPIDP',\n",
       " 'DSDSNLSVVKKLPVPLESVKE',\n",
       " 'ENYSEGGPLYKNGSLRNADSE',\n",
       " 'RWAEDQNSLLKMIRQEVKAIK',\n",
       " 'LESLQCLESDKSDWRATNTDL',\n",
       " 'QRLPLNIEEAKDRLRILMLRK',\n",
       " 'YVVPVESSLGKEKGLEILSLF',\n",
       " 'CFLKLWDLNQKECRNTMFGHT',\n",
       " 'AAMLIKMILKKDNDSYVSFYN',\n",
       " 'QRPVVFVTRKKLVNAIQQKLS',\n",
       " 'RKKLVNAIQQKLSKLKGEPGW',\n",
       " 'NAIQQKLSKLKGEPGWVTIHG',\n",
       " 'PGGVHWVSVGKQDKSGLLMKL',\n",
       " 'VHWVSVGKQDKSGLLMKLQNL',\n",
       " 'GKQDKSGLLMKLQNLCTRLDQ',\n",
       " 'QCQILLTTRDKSVTDSVMGPK',\n",
       " 'EILSLFVNMKKADLPEQAHSI',\n",
       " 'WEYYLKQLQNKQFKRIRKSSS',\n",
       " 'DYYTDLSILQKDVKVPTKVLC',\n",
       " 'KNCSQLQDLHKKIITQFQRYH',\n",
       " 'PETSEVYQQAKLQAKQEVDNG',\n",
       " 'NGMLYLEWINKKNITNLSRLV',\n",
       " 'GQRIASCGADKTLQVFKAETG',\n",
       " 'CGADKTLQVFKAETGEKLLEI',\n",
       " 'LQVFKAETGEKLLEIKAHEDE',\n",
       " 'VNHCRFSPDDKLLASCSADGT',\n",
       " 'LASCSADGTLKLWDATSANER',\n",
       " 'ADGARIMVAAKNKIFLFDIHT',\n",
       " 'IFLRGHQETVKDFRLLKNSRL',\n",
       " 'VKVWNIITGNKEKDFVCHQGT',\n",
       " 'LSCDISHDATKFSSTSADKTA',\n",
       " 'ATKFSSTSADKTAKIWSFDLL',\n",
       " 'TFYTNGTNLKKIHVSPDFKTY',\n",
       " 'VPVESSLGKEKGLEILSLFVN',\n",
       " 'GARIMVAAKNKIFLWNTDSRS',\n",
       " 'DLPEQAHSIIKECKVVERCHW',\n",
       " 'LEGTGRQAVLKGMGSGQLQNL',\n",
       " 'AIFRMEDEQLKVWDVIGRSLI',\n",
       " 'DLGRGGHPLSKITGNSGERLA',\n",
       " 'ARSAGLFQNPKQICSCDGLTI',\n",
       " '----MALKMVKGSIDRMFDKN',\n",
       " 'VKGSIDRMFDKNLQDLVRGIR',\n",
       " 'AVLIMYKVFLKYPESLRPAFP',\n",
       " 'LRPAFPRLKEKLEDPDPGVQS',\n",
       " 'FAGELNPVAPKAQKKVPVPEG',\n",
       " '-------MALKMVKGSIDRMF',\n",
       " 'GIRNHKEDEAKYISQCIDEIK',\n",
       " 'KYISQCIDEIKQELKQDNIAV',\n",
       " 'QELKQDNIAVKANAVCKLTYL',\n",
       " 'LGLLAMSKILKTHPKSVQSHK',\n",
       " 'AMSKILKTHPKSVQSHKDLIL',\n",
       " 'KTHPKSVQSHKDLILQCLDDK',\n",
       " 'KDLILQCLDDKDESIRLRALD',\n",
       " 'CILQLVKHIQKLQAKDVPVAE',\n",
       " 'LVKHIQKLQAKDVPVAEEVSA',\n",
       " 'EELARRREARKQEQANNPFYI',\n",
       " 'PYRALDIDLDKPLADSEKLPI',\n",
       " 'LADSEKLPIQKHRNTETSKSP',\n",
       " 'KGENSVSVDGKCSDSTLLSNL',\n",
       " 'IRKKAVLIMYKVFLKYPESLR',\n",
       " 'VICELARRNPKNYLSLAPLFF',\n",
       " 'QCIDEIKQELKQDNIAVKANA',\n",
       " 'FYIKSSPSPQKRYQDTPGVEH',\n",
       " 'EERRHRQKLEKDKRRKKRKEK',\n",
       " 'KDKRRKKRKEKEKKGKRRHSS',\n",
       " 'PGLPMSDQYVKLEEERRHRQK',\n",
       " 'QEQANNPFYIKSSPSPQKRYQ',\n",
       " 'VSKKNLMEIVKKLMTHVDKAE',\n",
       " 'KGAADAIAQAKRRGVVVFGEP',\n",
       " 'CDFGLARDIYKDPDYVRKGSA',\n",
       " '---MQNYKYDKAIVPESKNGG',\n",
       " 'KYDKAIVPESKNGGSPALNNN',\n",
       " 'TLSLPAPAIRKEILSPVDIID',\n",
       " '------MQNYKYDKAIVPESK',\n",
       " 'LGPQSRELTLKVLRSSSCGDT',\n",
       " 'SAPGGLVPSEKPPMMPQAQPA',\n",
       " 'VRVTQVENEEKLKELEQFSIW',\n",
       " 'FCNSPDCSAWKTVSRIQSPKR',\n",
       " 'WNFFSSFLKEKLNDTYVNVGL',\n",
       " 'WLYITCRKVCKGAEKPVPPRL',\n",
       " 'TCRKVCKGAEKPVPPRLLTEE',\n",
       " 'YRIQGEVETRKALEELREFCN',\n",
       " 'VTQVENEEKLKELEQFSIWNF',\n",
       " 'TYVNVGLYSTKTCLKVEIIEK',\n",
       " 'VGLYSTKTCLKVEIIEKDTKY',\n",
       " 'GELGCFGGSAKDRGLLEDERA',\n",
       " 'ALYKEAELRLKGSSNTTECVP',\n",
       " 'PTAPKGASDAKLCALYKEAEL',\n",
       " 'ASDAKLCALYKEAELRLKGSS',\n",
       " 'QGCKIKALRAKTNTYIKTPVR',\n",
       " 'DAWRVHQPGCKPLSTFRQNSL',\n",
       " 'YRVVGLVVGPKGATIKRIQQQ',\n",
       " 'HDRDLLIGTAKHGLNRTDCYI',\n",
       " 'ESLESMMYGKKVLSQEPSSFQ',\n",
       " 'PPEDDANIIEKILASKTVQEV',\n",
       " 'ANIIEKILASKTVQEVHPGEP',\n",
       " 'LEEDVDPAKVKEFESLQVLPE',\n",
       " 'FESLQVLPEIKHVERPASDSW',\n",
       " 'VERPASDSWQKLEKSREYKNS',\n",
       " 'NRNCKLLEGLKLMALEHKVLL',\n",
       " 'GDLKTEEQVKKLQSILKPMML',\n",
       " 'EREMFDKASLKLGLDKAVLQD',\n",
       " 'DKASLKLGLDKAVLQDINRKG',\n",
       " 'QSEGKGSTFAKASFVASGNRT',\n",
       " 'DDPNFWQKWAKIAELDTEAKN',\n",
       " 'AELDTEAKNEKESLVIDRPRV',\n",
       " 'TKNQLLIPELKDADWLATCNP',\n",
       " 'KAEILGEAAEKAFEGSPAREL',\n",
       " 'RRTSEMDLINKEAQKRWTRRE',\n",
       " 'DQQLIDLLENKSLESKLILSQ',\n",
       " 'GLENDEFEIEKPKAYIPDLFK',\n",
       " 'QPFKVKHELLKEPWKESAEGQ',\n",
       " 'APTIAQLLQEKTLYSFSEWPK',\n",
       " 'KESFLAPVFTKDEQKHRRPYE',\n",
       " 'SGEERVPAIPKEPGLRGFLPE',\n",
       " 'HSEIVGLESQKRKKKKTKGDN',\n",
       " 'HTGRLVIGDHKSTSHFRTGEE',\n",
       " 'SHFRTGEEDKKINEELESQYQ',\n",
       " 'ESQYQQSMDSKLSGRYRRHCG',\n",
       " 'AKSNYKMMFVKSSGS------',\n",
       " 'KNKKDAKSNYKMMFVKSSGS-',\n",
       " 'VEDPKNKKDAKSNYKMMFVKS',\n",
       " 'QKFLRLMGAGKKEHTGRLVIG',\n",
       " 'RHIGVTRLDLKDIPNAIRLVA',\n",
       " 'LRQFVKEKLLKWAESPAALTE',\n",
       " 'GFALYNAANLKSIDFHRRIEE',\n",
       " 'SIDFHRRIEEKSLAQLKRQME',\n",
       " 'DREEEEGEEEKEAPTGREKRP',\n",
       " 'RRFFHDILHTKYRAATDVYAL',\n",
       " 'PTRILGNFLTKKYNHLNLFLF',\n",
       " 'FTWNFQRDLAKGGTVEYANEK',\n",
       " 'APNGPEANPVKQLQPNEEADY',\n",
       " 'EELPCVDRILKLCQDIFLVRE',\n",
       " 'RPSGQRKEAAKGYEARELELA',\n",
       " 'RIEEKSLAQLKRQMERIRAKQ',\n",
       " 'SHVVLRRYENKPYFPPRILGL',\n",
       " 'RISLRFRRRKKEGPARKGAAA',\n",
       " 'RRRKKEGPARKGAAAIEAEDR',\n",
       " 'TFWLLLRQFVKEKLLKWAESP',\n",
       " 'RQDVINTLLPKVLTRIIEGLQ',\n",
       " 'HFLEQLLDGKKLENYKIPVPI',\n",
       " 'REAVQKKTFTKWVNSHLARVT',\n",
       " 'TVEKPPKFTEKGNLEVLLFTI',\n",
       " 'MRIHCLENVDKALQFLKEQKV',\n",
       " 'ATYYHYFSKMKALAVEGKRIG',\n",
       " 'SYDEARNLHTKWQKHQAFMAE',\n",
       " 'MLEWEMAVREKEVEAIQAQAK',\n",
       " 'KEVEAIQAQAKALAQEDQGAG',\n",
       " 'QVQDDGHRLQKAYAGDKAEEI',\n",
       " 'SHYAAEEISEKLSQLQARRQE',\n",
       " 'SLIKRHEAFQKSAVAWEERFC',\n",
       " 'AWEERFCALEKLTALEEREKE',\n",
       " 'RGSLGFYKDAKAASAGVPYHG',\n",
       " 'HVFKLGLQDGKEYLFQAKDEA',\n",
       " 'ALADEREAVQKKTFTKWVNSH',\n",
       " 'NSYRTVEKPPKFTEKGNLEVL',\n",
       " 'DEEYQRIYTTKIKPRLKSEDG',\n",
       " 'IYTTKIKPRLKSEDGVEGDLG',\n",
       " 'PKGDISISGPKVNVEAPDVNL',\n",
       " 'VDLHVKGTKVKGEYDVTVPKL',\n",
       " 'PKADVDISGPKIDVTAPDVSI',\n",
       " 'VDLHLKGPNVKGEYDVTMPKV',\n",
       " 'KMPKFSMPGFKAEGPEVDVNL',\n",
       " 'KMPKFSMPSLKGEGPEFDVNL',\n",
       " 'VDIRGPKVDIKAPDVEGQGLD',\n",
       " 'PKADVVVSGPKVDIEAPDVSL',\n",
       " 'PKADIDVSGPKVDVEVPDVSL',\n",
       " 'KVPDVDIKGPKVDISAPDVDV',\n",
       " 'ISIPDVGLHLKGPKMKGDYDV',\n",
       " 'VTVPKVEGEIKAPDVDIKGPK',\n",
       " 'EGPEVDMNLPKADLGVSGPKV',\n",
       " 'PKADLGVSGPKVDIDVPDVNL',\n",
       " 'GDLKGPEIDVKAPKMDVNVGD',\n",
       " 'PDLDIEGPEGKLKGSKFKMPK',\n",
       " 'EGPEVDVNLPKADVVVSGPKV',\n",
       " 'PDVDFNLKGPKIKGDVDVSAP',\n",
       " 'PEVAVEGPNGKWKTPKFKMPD',\n",
       " 'VSLPKVEGDLKGPEVDIKGPK',\n",
       " 'GDLKGPEVDIKGPKVDINAPD',\n",
       " 'KMPEMNIKAPKISMPDIDLNL',\n",
       " 'ISMPDIDLNLKGPKVKGDVDV',\n",
       " 'EGPEGKWKSPKFKMPEMHFKT',\n",
       " 'KMPEMNIKAPKISMPDLDLNL',\n",
       " 'GDIKAPSLDIKGPEVDVSGPK',\n",
       " 'KLPKFNFSGSKVQTPEVDVKG',\n",
       " 'GDFKGPKVDIKAPEVNLNAPD',\n",
       " 'KMPKFSVSGLKAEGPDVAVDL',\n",
       " 'GDMQVPDLDIKGPKVDINAPD',\n",
       " 'VSLPKVESDLKGPEVDIEGPE',\n",
       " 'IKGDMDISVPKLEGDLKGPKV',\n",
       " 'EGPDVDVSLPKADIDVSGPKV',\n",
       " 'PDAKLSGPSLKMPSLEISAPK',\n",
       " 'KAPKIGFSGPKLEGGEVDLKG',\n",
       " 'PDINIEGPDVKIPKFKKPKFG',\n",
       " 'FGAKSPKADIKSPSLDVTVPE',\n",
       " 'SPKTKKTMFGKMYFPDVEFDI',\n",
       " 'PAIHVEGLDIKAKAPKVKMPD',\n",
       " 'LDIKAKAPKVKMPDVDISVPK',\n",
       " 'INIEGLDAKVKTPSFGISAPQ',\n",
       " 'VSIPDVNVNLKGPKIKGDVPS',\n",
       " 'VNVNLKGPKIKGDVPSVGLEG',\n",
       " 'LEGDLRGPDVKLEGPDVSLKG',\n",
       " 'VKLEGPDVSLKGPGVDLPSVN',\n",
       " 'LDLNLKGPSLKGDLDASVPSM',\n",
       " 'SGSKGDLKSSKASLGSLEGEA',\n",
       " 'PDVNIEGPDAKLKGPKFKMPE',\n",
       " 'RSEAGHLLLQKLLRAKNVQLS',\n",
       " 'SSTQGNGEHWKSLESVGISRK',\n",
       " 'KSLESVGISRKELAMAEALQM',\n",
       " 'WDEPGVDFYSKPAGRRTDLKL',\n",
       " 'TFSLVEQLPGKLLEHRILEEE',\n",
       " 'INDAITRLNLKSTYDAEMLRD',\n",
       " 'DIKFTSPPGDKFSPRYEFGSL',\n",
       " 'RLPLSPSLLVKGIVPRDCSYF',\n",
       " 'QVEHGVTGSFKDRPLADWLQK',\n",
       " 'DGGIYIGSIMKGGAVAADGRI',\n",
       " 'AVRVLRDIVHKPGPIVLTVAK',\n",
       " 'SVHTDMASVTKAMAAPESGLE',\n",
       " 'EARKYASGLLKAGLIRHTVNK',\n",
       " 'GRPEERAPESKSGSGSESEPS',\n",
       " 'LDEEETPYLVKIPVPAERITL',\n",
       " 'PAERITLGDFKSVLQRPAGAK',\n",
       " 'QRPAGAKYFFKSMDQDFGVVK',\n",
       " 'KPGPIVLTVAKCWDPSPQAYF',\n",
       " 'EGFPERREARKYASGLLKAGL',\n",
       " 'LAIESQDAGIKTITMLDEQKE',\n",
       " 'IKTITMLDEQKEQLNRIEEGL',\n",
       " 'RIEEGLDQINKDMRETEKTLT',\n",
       " 'TTGAASGGYIKRITNDAREDE',\n",
       " 'NEIDAQNPQIKRITDKADTNR',\n",
       " 'AAPSDLESIFKDAKIPVSGPF',\n",
       " 'SDLESIFKDAKIPVSGPFLVK',\n",
       " 'KIPVSGPFLVKTGYAFVDCPD',\n",
       " 'VDCPDESWALKAIEALSGKIE',\n",
       " 'ALSGKIELHGKPIEVEHSVPK',\n",
       " 'KPIEVEHSVPKRQRIRKLQIR',\n",
       " 'SKDQARQALDKLNGFQLENFT',\n",
       " 'SRQGSPGSVSKQKPCDLPLRL',\n",
       " 'PTQFVGAIIGKEGATIRNITK',\n",
       " 'KEGATIRNITKQTQSKIDVHR',\n",
       " 'IRNITKQTQSKIDVHRKENAG',\n",
       " 'HRKENAGAAEKSITILSTPEG',\n",
       " 'EIMHKEAQDIKFTEEIPLKIL',\n",
       " 'DIKFTEEIPLKILAHNNFVGR',\n",
       " 'AIIGKQGQHIKQLSRFAGASI',\n",
       " 'QLSRFAGASIKIAPAEAPDAK',\n",
       " 'KIAPAEAPDAKVRMVIITGPP',\n",
       " 'IITGPPEAQFKAQGRIYGKIK',\n",
       " 'KAQGRIYGKIKEENFVSPKEE',\n",
       " 'KIKEENFVSPKEEVKLEAHIR',\n",
       " 'AAGRVIGKGGKTVNELQNLSS',\n",
       " 'HFYACQVAQRKIQEILTQVKQ',\n",
       " 'RKIQEILTQVKQHQQQKALQS',\n",
       " 'LTQVKQHQQQKALQSGPPQSR',\n",
       " 'STPEGTSAACKSILEIMHKEA',\n",
       " 'ACKSILEIMHKEAQDIKFTEE',\n",
       " 'LIGKEGRNLKKIEQDTDTKIT',\n",
       " 'LYNPERTITVKGNVETCAKAE',\n",
       " 'TVKGNVETCAKAEEEIMKKIR',\n",
       " 'ENFVSPKEEVKLEAHIRVPSF',\n",
       " 'PSFAAGRVIGKGGKTVNELQN',\n",
       " 'LKKIEQDTDTKITISPLQELT',\n",
       " 'MTKVPVGDQPKDIELQIRELI',\n",
       " 'DVLMGRVIPVKLGIIGVVNRS',\n",
       " 'ANRSSEKNKKKFGVESDKRVT',\n",
       " 'MSVPEQAELEKLKQRINFSDL',\n",
       " 'NNKRQLSENRKPFNFLPMQIN',\n",
       " 'NFLPMQINTNKSKDASTSPPN',\n",
       " 'RLVQIRDYITKASSMREDLVE',\n",
       " 'HLKEQEKSYMKFLKKILARDP',\n",
       " 'PSASERLPDEKVELFSKMRVL',\n",
       " 'LPDEKVELFSKMRVLQEKKQK',\n",
       " 'KMRVLQEKKQKMDKLLGELHT',\n",
       " 'VLQEKKQKMDKLLGELHTLRD',\n",
       " 'GHLNPSEKLQKLNEVRKRLNE',\n",
       " 'EHPEDAEFEQKINRLMAAKQK',\n",
       " 'DTGVNEKAREKFYEAKLQQQQ',\n",
       " 'EKAREKFYEAKLQQQQRELKQ',\n",
       " 'AASVGNCPTKKYMPAVTSTPT',\n",
       " 'MLREELRQRRKQLEALMAEHQ',\n",
       " 'YNGKETKNRWKNNCPFSADEN',\n",
       " 'SADENYRPLAKTRQQNISMQR',\n",
       " 'EQWQEQINQLKKQLDFSVSIC',\n",
       " 'TWQQNNVQRLKQMLNELMRQQ',\n",
       " 'SGKTEYMAFPKPFESSSSIGA',\n",
       " 'FESSSSIGAEKPRNKKLPEEE',\n",
       " 'WLYEQEGEVEKPFIKTGFSVS',\n",
       " 'SAQTEEPVQAKVFSRKNHEQL',\n",
       " 'QLDRQIKAIMKEVIPFLKEHM',\n",
       " 'ESKEFVKFFHKQLGSILQDSL',\n",
       " 'LGSILQDSLAKFAGRKLKDCG',\n",
       " 'QDLDNNSITVKQRCKRKIEAT',\n",
       " 'ATIRKALRLAKNDINEAVALL',\n",
       " 'TKLIEDSTLSKSVKNAIDTDR',\n",
       " 'FIKQTYQKQDKSIIQDLKKNF',\n",
       " 'NFWKIFKMWNKELYVREQQDA',\n",
       " 'GFDWESGRSIKYDEQIRFPWM',\n",
       " 'PNNDRLSILTKLVKKGEKKGL',\n",
       " 'VLTDHWSIPYKREESLGKCLL',\n",
       " 'RMLKSPHFSAKMNSLKEVTKL',\n",
       " 'SYIIKCIEDIKRPGEWSGLEK',\n",
       " 'GLEKNKKDGFKSSQLNNPQFV',\n",
       " 'QLHEITRSFIKQTYQKQDKSI',\n",
       " 'TRSFIKQTYQKQDKSIIQDLK',\n",
       " 'KQDKSIIQDLKKNFEIVKLVT',\n",
       " 'LESDVQQQLFKEKILKLESYE',\n",
       " 'SYINLNPRLKKDSVSLHKKFI',\n",
       " 'DSLLTVNKDQKLLHQLGFSDE',\n",
       " 'LDQLDSLGRKKTLLSESSSQS',\n",
       " 'LLSESSSQSSKSPSLSSKQQH',\n",
       " 'LDLVGSSQPIKESNSLCPAGI',\n",
       " 'LTKLVKKGEKKGLFVEKMPAR',\n",
       " 'SNVSNETSTGKTFQRTISAQD',\n",
       " 'YVPENFWKIFKMWNKELYVRE',\n",
       " 'DRLSILTKLVKKGEKKGLFVE',\n",
       " 'RLSILTKLVKKGEKKGLFVEK',\n",
       " 'MVRDENLKFMKNRDVYSSDYF',\n",
       " 'MGFSDPATIRKALRLAKNDIN',\n",
       " 'FAVSPVSTFQKEPHGWVVDLV',\n",
       " 'DVRSVEEKDLKDKRLVSIPEL',\n",
       " 'IEDSTLSKSVKNAIDTDRLLD',\n",
       " 'PGEWSGLEKNKKDGFKSSQLN',\n",
       " 'SLASLNATKLKHPYYPCMAKV',\n",
       " 'VSIPELLSAVKLLCMRFQPDL',\n",
       " 'LEGSNAYYCEKCKEKRITVKR',\n",
       " 'LQALRKAQQQKQEWLSKGHGE',\n",
       " 'PSERDFFQEVKESENVVCHFY',\n",
       " 'APFLCERLHIKVIPTLALLKD',\n",
       " 'VLEHQLLQTTKLVEEHLDSEI',\n",
       " 'QMDEDELERLKEKRLQALRKA',\n",
       " 'AQQQKQEWLSKGHGEYREIPS',\n",
       " 'ILDRHLAILSKKHLETKFLKL',\n",
       " 'SKKHLETKFLKLNVEKAPFLC',\n",
       " 'ETKFLKLNVEKAPFLCERLHI',\n",
       " 'IKVIPTLALLKDGKTQDYVVG',\n",
       " 'LMEPPFQNQKKFGTNFTKLEK',\n",
       " 'LKEKRLQALRKAQQQKQEWLS',\n",
       " 'NQKKFGTNFTKLEKKTIRGKK',\n",
       " 'KRAKFQGSPDKFNTYVTLKVQ',\n",
       " 'KPELSSAQKQKDLQVTNVQPL',\n",
       " 'RLETNENSHQKGDMNPLEGKQ',\n",
       " 'QKGDMNPLEGKQDSHVGTVHA',\n",
       " 'ATDYSQEQQGKLLSPRSLGST',\n",
       " 'PGQMRPPLATKTLEERISKLI',\n",
       " 'ATKTLEERISKLISDNEALVD',\n",
       " 'IFKDSFQFDLKPVGRRTSSSS',\n",
       " 'RWRSEGADPAKFSDLDEQCDS',\n",
       " 'EQCDSSSLSSKTRTDNSECIS',\n",
       " 'AMELQPVHIIKRMSNAETLLK',\n",
       " 'AESQAVTELPKVVVHHVTVSP',\n",
       " 'ISDNEALVDDKQLDSVKPRRT',\n",
       " 'LVDDKQLDSVKPRRTSLSRRG',\n",
       " 'SIDSPKSYIFKDSFQFDLKPV',\n",
       " 'AAGEAMSVRSKALAQGPHIEK',\n",
       " 'RKLENFENHKKFYCSELHGPK',\n",
       " 'NVTIRSDQQHKNIQLQNSHIH',\n",
       " 'ARGPEQTMDPKLSTIMEQQIS',\n",
       " 'LNRTGKSGSLKVIGISQEESH',\n",
       " 'AQCHDQEKSEKFSWPQRSETL',\n",
       " 'SWPQRSETLSKLPTEKLPPKK',\n",
       " 'EDVSKTEASPKIDFLNKAEFL',\n",
       " 'DPKPELSSAQKQKDLQVTNVQ',\n",
       " 'TVSPLRTDSPKAMDPKPELSS',\n",
       " 'FGEQPLQLTTKPDLLAWDPAR',\n",
       " 'GKPPPPGKSGKYYYQLNSKKH',\n",
       " 'LKHIVENAVQKELRLLRGKTI',\n",
       " 'MATDFAPGFQKKFHEKVIAAL',\n",
       " 'KVNKYYSNLTKSERYSSSGSP',\n",
       " 'LSNFLHAQQWKGASNYVAKRY',\n",
       " 'LEHYIEGKYIKYNSNSGFVRD',\n",
       " 'RERDAVNQNTKLLQSAKTILR',\n",
       " 'NQNTKLLQSAKTILRGTEEKC',\n",
       " 'LGSSGRVCVEKWNLLNSSRLH',\n",
       " 'QRLNALDLEKKIGKSILGKVH',\n",
       " 'NKTKGFDYLLKAAEAGDRQSM',\n",
       " 'MLFTGGYGLEKDPQRSGDLYT',\n",
       " 'SNQNVNSKVNKYYSNLTKSER',\n",
       " 'SGSPANSFHFKEAWKHAIQKA',\n",
       " 'ANSFHFKEAWKHAIQKAKHMP',\n",
       " 'EAWKHAIQKAKHMPDPWAEFH',\n",
       " 'GAMRECFRTKKLSNFLHAQQW',\n",
       " 'QWKGASNYVAKRYIEPVDRDV',\n",
       " 'KLWGEEYNRHKPPKQVDIMQM',\n",
       " 'CIIELKDRPGKPLFHLEHYIE',\n",
       " 'NALDLEKKIGKSILGKVHLAM',\n",
       " 'SLKETEENKTKGFDYLLKAAE',\n",
       " 'QAAEAAMEAMKGRLANQYYQK',\n",
       " 'RRDCLADVDTKPAYQNLRQRV',\n",
       " 'DSMSGTEKGSKDTDICSSAKG',\n",
       " 'SKDTDICSSAKGIVESSVTSA',\n",
       " 'QKSVSDPVEDKKEQESDEEEE',\n",
       " 'KSVSDPVEDKKEQESDEEEEE',\n",
       " 'TKSVRHAYVHKPYLYSKYYSD',\n",
       " 'QGKVIMPLGSKLTGVIVENEN',\n",
       " 'DLTIKNDYSGKWTDQASAEKT',\n",
       " 'DRIISQVVDPKINHTFRPQVE',\n",
       " 'SDLPCPVEEIKNYTKEHNNLI',\n",
       " 'KEHNNLILLNKDVQQESSEQK',\n",
       " 'SKIQKDSLGSKQHGITLQRRS',\n",
       " 'HADHRSTLTKKMHIQSAVSKM',\n",
       " 'YDPDVIPLFDKRTVLEGSTAS',\n",
       " 'GEGFTVDTPAKASITSKRHIP',\n",
       " 'ENDLNAEPNLKQTIKATVENG',\n",
       " 'LNTEKYAETVKLKHKRSPGKV',\n",
       " 'EIGPFAGRGQKESTLHLINAE',\n",
       " 'STLHLINAEEKNVLLNSLQKE',\n",
       " 'GPEQTSGQTAKDPSVSIRYLA',\n",
       " 'LGGLKLKANLKMEAYVPSEEE',\n",
       " 'LAPPESLCGGKPSGIAELQRE',\n",
       " 'RSISNDDGEEKIVTSVRRRGR',\n",
       " 'HRAKLPLAKEKYKSDKDSTST',\n",
       " 'SQGNMMRMGPKKETEGTVTCT',\n",
       " 'SQPTTDTSTDKERTSEDMADK',\n",
       " 'ENSRDLEELPKTSSETNSTTS',\n",
       " 'LEEKRKQKAEKTKSSKTKGQG',\n",
       " 'DAVTSAGSEEKCDGSLSRDSE',\n",
       " 'ESEVLKTSDSKEGGEGFTVDT',\n",
       " 'LDQREEVRQSKQLLQLYLQAL',\n",
       " 'KTKLRVLEDGKQQVQVVGLQE',\n",
       " 'NTHLSTFSFTKVDVGQQPLRI',\n",
       " 'QDLQGKDTYLKGLVKGKSDPY',\n",
       " 'QDQCVEIRSAKDDFTSIIGKC',\n",
       " 'WMVPFLHRCEKQSPGVANELL',\n",
       " 'QSPTCYKQSTKLLGLAELLRV',\n",
       " 'SELLEKHGLEKPISFVKNTQS',\n",
       " 'PAAQESGTIPKKRQEVMKWNG',\n",
       " 'TIPKKRQEVMKWNGWGYNDSK',\n",
       " 'KWNGWGYNDSKFIFNKKGQIE',\n",
       " 'GLKKFYITKFKGFDPNQLSVA',\n",
       " 'HEKQVYDIAAKFGGLAAGEDN',\n",
       " 'KMVTPRGIIEKSCQGPRMSTG',\n",
       " 'VVNEDFLHDLKETNISYSQEA',\n",
       " 'EKQLQLITSLKEQAIGEYEDL',\n",
       " 'PETTEEVTDLKRQAVEEMMDR',\n",
       " 'LNKSTSSRSLKSLDPENSETE',\n",
       " 'TELERILRRRKVTAEADSSSP',\n",
       " 'SSVTKTALNKKTLEAEFNSPS',\n",
       " 'EDEGEIQPENKEDSIENVRET',\n",
       " 'CRESAEALATKLNKENKTLKR',\n",
       " 'QLLKALDENAKLTQQLEEERI',\n",
       " 'QNSEEKARNLKHSVDELQKRV',\n",
       " 'KGCESAVDELKGILGTLNKST',\n",
       " 'ELKGILGTLNKSTSSRSLKSL',\n",
       " 'KILAIELENLKSKLVEVIEEV',\n",
       " 'NLELEKDLRKKAESFAQEMFI',\n",
       " 'KLVEVIEEVNKVKQEKTVLNS',\n",
       " 'LAIELENLKSKLVEVIEEVNK',\n",
       " 'EERIQHQQKVKELEEQLENET',\n",
       " 'LEEDKKELELKYQNSEEKARN',\n",
       " 'DQIVSVQEEKKILAIELENLK',\n",
       " 'HPSGSGAKKEKATQPETTEEV',\n",
       " 'DSDAEVAEAAKPHLSEVTTEG',\n",
       " 'EAINYSQQLAKANLKIDHLEK',\n",
       " 'SLLYKEYLSEKETWKTESKTI',\n",
       " 'TIEQAWEQETKLGNESSMDKA',\n",
       " 'TKLGNESSMDKAKKSITNSDI',\n",
       " 'GNESSMDKAKKSITNSDIVSI',\n",
       " 'KYNEDLEQQIKILKHVPEGAE',\n",
       " 'DSRTPPPGGVKMPNVPNTQPA',\n",
       " 'NVPNTQPAIMKPTEEHPAYTQ',\n",
       " 'EEHPAYTQIAKEHALAQAELL',\n",
       " 'EHALAQAELLKRQEELERKAA',\n",
       " 'LYRTTGASFEKAQQEFATGVM',\n",
       " 'QEFATGVMSNKTVQTAAANAA',\n",
       " 'AASSAAQNAFKGNQI------',\n",
       " 'LLRQQEELDRKAAELERKERE',\n",
       " 'RVNNVYDVDNKTYLIRLQKPD',\n",
       " 'KEESSNSSDSKSQSRRHLSAK',\n",
       " 'RLTEIVASAPKGELLKRVLNP',\n",
       " 'DEKLETKDIEKVLVSLQKAED',\n",
       " 'YMKTTSNFSGKGYIIQKREIK',\n",
       " 'FDKAVDEFYSKIEGQKIDLKA',\n",
       " 'SKIEGQKIDLKALQQEKQALK',\n",
       " 'KIDLKALQQEKQALKKLDNVR',\n",
       " 'EALQQAQEIDKLKGELIEMNL',\n",
       " 'AQGDPVASAIKELKLQTNHVT',\n",
       " 'KTQKTVEAAEKAFKSAEKKTK',\n",
       " 'KEVQTVTSIQKARKVYWFEKF',\n",
       " ...]"
      ]
     },
     "execution_count": 16,
     "metadata": {},
     "output_type": "execute_result"
    }
   ],
   "source": [
    "Final_Refined_Training_Data"
   ]
  },
  {
   "cell_type": "code",
   "execution_count": 17,
   "id": "54eff4e5",
   "metadata": {},
   "outputs": [
    {
     "data": {
      "text/plain": [
       "517541"
      ]
     },
     "execution_count": 17,
     "metadata": {},
     "output_type": "execute_result"
    }
   ],
   "source": [
    "len(Refined_Training_Data)"
   ]
  },
  {
   "cell_type": "code",
   "execution_count": 18,
   "id": "80f906dc",
   "metadata": {},
   "outputs": [
    {
     "data": {
      "text/plain": [
       "517541"
      ]
     },
     "execution_count": 18,
     "metadata": {},
     "output_type": "execute_result"
    }
   ],
   "source": [
    "len(Final_Refined_Training_Data)"
   ]
  },
  {
   "cell_type": "code",
   "execution_count": 19,
   "id": "4471ba72",
   "metadata": {},
   "outputs": [
    {
     "name": "stdout",
     "output_type": "stream",
     "text": [
      "Hait\n",
      "RQPMILEKGQRFTLRDGNRTI\n"
     ]
    }
   ],
   "source": [
    "for value in Final_Refined_Training_Data:\n",
    "    if value[10] != \"K\":\n",
    "        print(\"Hait\")\n",
    "        print(value)"
   ]
  },
  {
   "cell_type": "code",
   "execution_count": 20,
   "id": "631b8c50",
   "metadata": {},
   "outputs": [],
   "source": [
    "Training_Labels = list(df_training[\"Label\"])"
   ]
  },
  {
   "cell_type": "code",
   "execution_count": 21,
   "id": "d1a3f0c6",
   "metadata": {},
   "outputs": [
    {
     "data": {
      "text/plain": [
       "517541"
      ]
     },
     "execution_count": 21,
     "metadata": {},
     "output_type": "execute_result"
    }
   ],
   "source": [
    "len(Training_Labels)"
   ]
  },
  {
   "cell_type": "code",
   "execution_count": 22,
   "id": "0a5261eb",
   "metadata": {},
   "outputs": [
    {
     "name": "stdout",
     "output_type": "stream",
     "text": [
      "IVTNVASQUGKTEVNYTQLVD\n",
      "0\n",
      "195314\n",
      "\n",
      "\n",
      "\n",
      "\n",
      "\n",
      "HFQIYPFSLRKPNSDULGMEE\n",
      "0\n",
      "236867\n",
      "\n",
      "\n",
      "\n",
      "\n",
      "\n",
      "PNSDULGMEEKNIGL------\n",
      "0\n",
      "236868\n",
      "\n",
      "\n",
      "\n",
      "\n",
      "\n",
      "SWRLTSFSGMKGUGCKVPQET\n",
      "0\n",
      "264461\n",
      "\n",
      "\n",
      "\n",
      "\n",
      "\n",
      "SFSGMKGUGCKVPQETLLKLL\n",
      "0\n",
      "264462\n",
      "\n",
      "\n",
      "\n",
      "\n",
      "\n",
      "LGHEFLNDGPKRGQSRFUIFS\n",
      "0\n",
      "282773\n",
      "\n",
      "\n",
      "\n",
      "\n",
      "\n",
      "SRFUIFSSSLKFVPKGKEAAA\n",
      "0\n",
      "282774\n",
      "\n",
      "\n",
      "\n",
      "\n",
      "\n",
      "GSCTUPSFLLKFDQFKRLVDD\n",
      "0\n",
      "290596\n",
      "\n",
      "\n",
      "\n",
      "\n",
      "\n",
      "AGAILEVCGUKLGRFPQVQAF\n",
      "0\n",
      "437462\n",
      "\n",
      "\n",
      "\n",
      "\n",
      "\n",
      "TKSSGLDITQKGCUG------\n",
      "0\n",
      "517496\n",
      "\n",
      "\n",
      "\n",
      "\n",
      "\n"
     ]
    }
   ],
   "source": [
    "Final_Training_Peptide = []\n",
    "Final_Training_Labels = []\n",
    "for i in range(len(Final_Refined_Training_Data)):\n",
    "    value = Final_Refined_Training_Data[i]\n",
    "    if \"B\" in value or \"J\" in value or \"O\" in value or \"U\" in value or \"Z\" in value:\n",
    "        print(value)\n",
    "        print(Training_Labels[i])\n",
    "        print(i)\n",
    "        print(\"\\n\\n\\n\\n\")\n",
    "    else:\n",
    "        Final_Training_Peptide.append(value)\n",
    "        Final_Training_Labels.append(Training_Labels[i])"
   ]
  },
  {
   "cell_type": "code",
   "execution_count": 23,
   "id": "ba6c5d16",
   "metadata": {},
   "outputs": [
    {
     "data": {
      "text/plain": [
       "517531"
      ]
     },
     "execution_count": 23,
     "metadata": {},
     "output_type": "execute_result"
    }
   ],
   "source": [
    "len(Final_Training_Peptide)"
   ]
  },
  {
   "cell_type": "code",
   "execution_count": 24,
   "id": "affa822a",
   "metadata": {},
   "outputs": [
    {
     "data": {
      "text/plain": [
       "517531"
      ]
     },
     "execution_count": 24,
     "metadata": {},
     "output_type": "execute_result"
    }
   ],
   "source": [
    "len(Final_Training_Labels)"
   ]
  },
  {
   "cell_type": "code",
   "execution_count": 25,
   "id": "d90881eb",
   "metadata": {},
   "outputs": [],
   "source": [
    "from sklearn.utils import shuffle\n",
    "import numpy as np\n",
    "\n",
    "seed = 42\n",
    "train_x = np.array(Final_Training_Peptide)\n",
    "train_y = np.array(Final_Training_Labels)\n",
    "train_x = train_x.reshape(-1, 1)\n",
    "\n",
    "train_x, train_y = shuffle(train_x, train_y)\n",
    "\n",
    "\n",
    "from imblearn.under_sampling import RandomUnderSampler\n",
    "rus = RandomUnderSampler(random_state = seed)\n",
    "train_x, train_y = rus.fit_resample(train_x, train_y)\n",
    "\n",
    "train_x = np.squeeze(train_x)"
   ]
  },
  {
   "cell_type": "code",
   "execution_count": 26,
   "id": "2c1b5af9",
   "metadata": {},
   "outputs": [
    {
     "data": {
      "text/plain": [
       "'FKDDKLYDPEKGARSLAGPPP'"
      ]
     },
     "execution_count": 26,
     "metadata": {},
     "output_type": "execute_result"
    }
   ],
   "source": [
    "train_x[0]"
   ]
  },
  {
   "cell_type": "code",
   "execution_count": 27,
   "id": "f887323b",
   "metadata": {},
   "outputs": [
    {
     "data": {
      "text/plain": [
       "0"
      ]
     },
     "execution_count": 27,
     "metadata": {},
     "output_type": "execute_result"
    }
   ],
   "source": [
    "train_y[0]"
   ]
  },
  {
   "cell_type": "code",
   "execution_count": 28,
   "id": "715efbb0",
   "metadata": {},
   "outputs": [
    {
     "data": {
      "text/plain": [
       "203690"
      ]
     },
     "execution_count": 28,
     "metadata": {},
     "output_type": "execute_result"
    }
   ],
   "source": [
    "len(train_x)"
   ]
  },
  {
   "cell_type": "code",
   "execution_count": 29,
   "id": "c718eb3c",
   "metadata": {},
   "outputs": [
    {
     "data": {
      "text/plain": [
       "203690"
      ]
     },
     "execution_count": 29,
     "metadata": {},
     "output_type": "execute_result"
    }
   ],
   "source": [
    "len(train_y)"
   ]
  },
  {
   "cell_type": "markdown",
   "id": "720b3e02",
   "metadata": {},
   "source": [
    "# Training AAindex Encoding"
   ]
  },
  {
   "cell_type": "code",
   "execution_count": 30,
   "id": "c6d16cf6",
   "metadata": {},
   "outputs": [],
   "source": [
    "aminoacids='ARNDCQEGHILKMFPSTWYV-'\n",
    "import numpy as np\n",
    "aaindex=pd.read_table('aaindex31.txt',sep='\\s+',header=None)\n",
    "aaindex=aaindex.subtract(aaindex.min(axis=1),axis=0).divide((aaindex.max(axis=1)-aaindex.min(axis=1)),axis=0)\n",
    "aa=[x for x in 'ARNDCQEGHILKMFPSTWYV']\n",
    "aaindex=aaindex.to_numpy().T\n",
    "index={x:y for x,y in zip(aa,aaindex.tolist())}\n",
    "index['-']=np.zeros(31).tolist()\n",
    "index['X']=np.zeros(31).tolist()\n",
    "\n",
    "def index_encode(Sequence_one_hot_encoding):\n",
    "    encoding=[]\n",
    "    for i in range(len(Sequence_one_hot_encoding)):\n",
    "        s=Sequence_one_hot_encoding[i]\n",
    "        encoding.append([index[x] for x in (s)])\n",
    "    encoding=np.array(encoding)\n",
    "    return encoding\n",
    "\n",
    "AAindexCoding_Training = index_encode(list(train_x))"
   ]
  },
  {
   "cell_type": "code",
   "execution_count": 31,
   "id": "0e32f725",
   "metadata": {},
   "outputs": [
    {
     "data": {
      "text/plain": [
       "(203690, 21, 31)"
      ]
     },
     "execution_count": 31,
     "metadata": {},
     "output_type": "execute_result"
    }
   ],
   "source": [
    "AAindexCoding_Training.shape"
   ]
  },
  {
   "cell_type": "code",
   "execution_count": 32,
   "id": "e29631bb",
   "metadata": {},
   "outputs": [
    {
     "data": {
      "text/plain": [
       "203690"
      ]
     },
     "execution_count": 32,
     "metadata": {},
     "output_type": "execute_result"
    }
   ],
   "source": [
    "len(train_y)"
   ]
  },
  {
   "cell_type": "code",
   "execution_count": 33,
   "id": "cbe52689",
   "metadata": {},
   "outputs": [
    {
     "data": {
      "text/plain": [
       "'ARNDCQEGHILKMFPSTWYV-'"
      ]
     },
     "execution_count": 33,
     "metadata": {},
     "output_type": "execute_result"
    }
   ],
   "source": [
    "aminoacids"
   ]
  },
  {
   "cell_type": "markdown",
   "id": "9d6bd004",
   "metadata": {},
   "source": [
    "# Training One Hot Encoding"
   ]
  },
  {
   "cell_type": "code",
   "execution_count": 34,
   "id": "efc5aae6",
   "metadata": {},
   "outputs": [],
   "source": [
    "def binary_encode(Sequence_one_hot_encoding): \n",
    "    aa2v={x:y for x,y in zip(aminoacids,np.eye(21,21).tolist())}\n",
    "    aa2v['X']=np.zeros(21)\n",
    "    encoding=[]\n",
    "    for i in range(len(Sequence_one_hot_encoding)):\n",
    "        s=Sequence_one_hot_encoding[i]\n",
    "        encoding.append([aa2v[x] for x in s])\n",
    "    encoding=np.array(encoding)\n",
    "    return encoding\n",
    "\n",
    "binaryCoding_Training = binary_encode(list(train_x))"
   ]
  },
  {
   "cell_type": "code",
   "execution_count": 35,
   "id": "63689ca0",
   "metadata": {},
   "outputs": [
    {
     "data": {
      "text/plain": [
       "(203690, 21, 21)"
      ]
     },
     "execution_count": 35,
     "metadata": {},
     "output_type": "execute_result"
    }
   ],
   "source": [
    "binaryCoding_Training.shape"
   ]
  },
  {
   "cell_type": "code",
   "execution_count": 36,
   "id": "b4f225f9",
   "metadata": {},
   "outputs": [
    {
     "data": {
      "text/plain": [
       "'ARNDCQEGHILKMFPSTWYV-'"
      ]
     },
     "execution_count": 36,
     "metadata": {},
     "output_type": "execute_result"
    }
   ],
   "source": [
    "aminoacids"
   ]
  },
  {
   "cell_type": "code",
   "execution_count": 37,
   "id": "37eef890",
   "metadata": {},
   "outputs": [],
   "source": [
    "updated_aminoacids = aminoacids + \"X\""
   ]
  },
  {
   "cell_type": "code",
   "execution_count": 38,
   "id": "bb3135a0",
   "metadata": {},
   "outputs": [
    {
     "data": {
      "text/plain": [
       "'ARNDCQEGHILKMFPSTWYV-X'"
      ]
     },
     "execution_count": 38,
     "metadata": {},
     "output_type": "execute_result"
    }
   ],
   "source": [
    "updated_aminoacids"
   ]
  },
  {
   "cell_type": "markdown",
   "id": "dc834ad5",
   "metadata": {},
   "source": [
    "# Training Embedding Encoding"
   ]
  },
  {
   "cell_type": "code",
   "execution_count": 39,
   "id": "d6d401e6",
   "metadata": {},
   "outputs": [],
   "source": [
    "train_x_21 = []\n",
    "\n",
    "char_to_int = dict((c, i) for i, c in enumerate(updated_aminoacids))\n",
    "\n",
    "def inner1(data):\n",
    "    for char in data:\n",
    "        if char not in updated_aminoacids:\n",
    "            print(data)\n",
    "            return\n",
    "        \n",
    "    integer_encoded = [char_to_int[char] for char in data]\n",
    "    train_x_21.append(integer_encoded)\n",
    "    \n",
    "for value in list(train_x):\n",
    "    inner1(value)\n",
    "    \n",
    "EmbeddingCoding_Training = np.array(train_x_21)"
   ]
  },
  {
   "cell_type": "code",
   "execution_count": 40,
   "id": "d526009e",
   "metadata": {},
   "outputs": [
    {
     "data": {
      "text/plain": [
       "(203690, 21)"
      ]
     },
     "execution_count": 40,
     "metadata": {},
     "output_type": "execute_result"
    }
   ],
   "source": [
    "EmbeddingCoding_Training.shape"
   ]
  },
  {
   "cell_type": "code",
   "execution_count": 41,
   "id": "a313c04d",
   "metadata": {},
   "outputs": [
    {
     "data": {
      "text/plain": [
       "True"
      ]
     },
     "execution_count": 41,
     "metadata": {},
     "output_type": "execute_result"
    }
   ],
   "source": [
    "EmbeddingCoding_Training.shape[0] == binaryCoding_Training.shape[0]"
   ]
  },
  {
   "cell_type": "code",
   "execution_count": 42,
   "id": "82f9089c",
   "metadata": {},
   "outputs": [
    {
     "data": {
      "text/plain": [
       "True"
      ]
     },
     "execution_count": 42,
     "metadata": {},
     "output_type": "execute_result"
    }
   ],
   "source": [
    "binaryCoding_Training.shape[0] == AAindexCoding_Training.shape[0]"
   ]
  },
  {
   "cell_type": "markdown",
   "id": "b1d8a881",
   "metadata": {},
   "source": [
    "# Independent Test Section"
   ]
  },
  {
   "cell_type": "code",
   "execution_count": 43,
   "id": "3bfe0569",
   "metadata": {},
   "outputs": [],
   "source": [
    "df_test = pd.read_csv(\"benchmark.csv\")"
   ]
  },
  {
   "cell_type": "code",
   "execution_count": 44,
   "id": "4b0c79f5",
   "metadata": {},
   "outputs": [],
   "source": [
    "AAindex_Test_AA_Sequence = list(df_test[\"Seq\"])"
   ]
  },
  {
   "cell_type": "code",
   "execution_count": 45,
   "id": "a2b39d6a",
   "metadata": {},
   "outputs": [],
   "source": [
    "Test_Labels = list(df_test[\"Label\"])"
   ]
  },
  {
   "cell_type": "code",
   "execution_count": 46,
   "id": "f6f457aa",
   "metadata": {},
   "outputs": [
    {
     "name": "stdout",
     "output_type": "stream",
     "text": [
      "GRFTISRDNSKRTLYMZMNSL\n",
      "1\n",
      "1753\n"
     ]
    }
   ],
   "source": [
    "Final_Test_Peptide = []\n",
    "Final_Test_Labels = []\n",
    "for i in range(len(AAindex_Test_AA_Sequence)):\n",
    "    value = AAindex_Test_AA_Sequence[i]\n",
    "    if \"B\" in value or \"J\" in value or \"O\" in value or \"U\" in value or \"Z\" in value:\n",
    "        print(value)\n",
    "        print(Test_Labels[i])\n",
    "        print(i)\n",
    "\n",
    "    else:\n",
    "        Final_Test_Peptide.append(value)\n",
    "        Final_Test_Labels.append(Test_Labels[i])"
   ]
  },
  {
   "cell_type": "markdown",
   "id": "cdc8db14",
   "metadata": {},
   "source": [
    "# Independent Test AAindex Encoding"
   ]
  },
  {
   "cell_type": "code",
   "execution_count": 47,
   "id": "2dc67927",
   "metadata": {},
   "outputs": [],
   "source": [
    "AA_Index_X_Test = index_encode(list(Final_Test_Peptide))"
   ]
  },
  {
   "cell_type": "code",
   "execution_count": 48,
   "id": "139faadd",
   "metadata": {},
   "outputs": [
    {
     "data": {
      "text/plain": [
       "(2076, 21, 31)"
      ]
     },
     "execution_count": 48,
     "metadata": {},
     "output_type": "execute_result"
    }
   ],
   "source": [
    "AA_Index_X_Test.shape"
   ]
  },
  {
   "cell_type": "code",
   "execution_count": 49,
   "id": "23190f5c",
   "metadata": {},
   "outputs": [],
   "source": [
    "y_independent = np.array(Final_Test_Labels)"
   ]
  },
  {
   "cell_type": "code",
   "execution_count": 50,
   "id": "fa64d6a6",
   "metadata": {},
   "outputs": [
    {
     "data": {
      "text/plain": [
       "(2076,)"
      ]
     },
     "execution_count": 50,
     "metadata": {},
     "output_type": "execute_result"
    }
   ],
   "source": [
    "y_independent.shape"
   ]
  },
  {
   "cell_type": "markdown",
   "id": "9a517bdc",
   "metadata": {},
   "source": [
    "# Independent Test One Hot Encoding"
   ]
  },
  {
   "cell_type": "code",
   "execution_count": 51,
   "id": "080b20b4",
   "metadata": {},
   "outputs": [],
   "source": [
    "binaryCoding_X_Test = binary_encode(list(Final_Test_Peptide))"
   ]
  },
  {
   "cell_type": "code",
   "execution_count": 52,
   "id": "8e0a097e",
   "metadata": {},
   "outputs": [
    {
     "data": {
      "text/plain": [
       "(2076, 21, 21)"
      ]
     },
     "execution_count": 52,
     "metadata": {},
     "output_type": "execute_result"
    }
   ],
   "source": [
    "binaryCoding_X_Test.shape"
   ]
  },
  {
   "cell_type": "markdown",
   "id": "3aa78b99",
   "metadata": {},
   "source": [
    "# Independent Test Embedding Encoding"
   ]
  },
  {
   "cell_type": "code",
   "execution_count": 53,
   "id": "0edc1579",
   "metadata": {},
   "outputs": [],
   "source": [
    "Ind_Test_x_21 = []\n",
    "\n",
    "char_to_int = dict((c, i) for i, c in enumerate(updated_aminoacids))\n",
    "\n",
    "def inner1(data):\n",
    "    for char in data:\n",
    "        if char not in updated_aminoacids:\n",
    "            return\n",
    "        \n",
    "    integer_encoded = [char_to_int[char] for char in data]\n",
    "    Ind_Test_x_21.append(integer_encoded)\n",
    "    \n",
    "for value in list(Final_Test_Peptide):\n",
    "    inner1(value)\n",
    "    \n",
    "EmbeddingCoding_X_Test = np.array(Ind_Test_x_21)"
   ]
  },
  {
   "cell_type": "code",
   "execution_count": 54,
   "id": "380e7437",
   "metadata": {},
   "outputs": [
    {
     "data": {
      "text/plain": [
       "(2076, 21)"
      ]
     },
     "execution_count": 54,
     "metadata": {},
     "output_type": "execute_result"
    }
   ],
   "source": [
    "EmbeddingCoding_X_Test.shape"
   ]
  },
  {
   "cell_type": "code",
   "execution_count": 55,
   "id": "f222658d",
   "metadata": {},
   "outputs": [
    {
     "data": {
      "text/plain": [
       "array([ 6, 14, 10,  3,  6, 15,  7, 17, 12,  9, 11,  2, 19, 10, 15, 12, 14,\n",
       "        9, 19,  2, 11])"
      ]
     },
     "execution_count": 55,
     "metadata": {},
     "output_type": "execute_result"
    }
   ],
   "source": [
    "EmbeddingCoding_X_Test[0]"
   ]
  },
  {
   "cell_type": "code",
   "execution_count": null,
   "id": "3504f674",
   "metadata": {},
   "outputs": [],
   "source": []
  },
  {
   "cell_type": "markdown",
   "id": "686b2d38",
   "metadata": {},
   "source": [
    "# Let Us train our MultiModel Deep Learning Algorithm to detect Ubiquitination"
   ]
  },
  {
   "cell_type": "code",
   "execution_count": 56,
   "id": "6b91336b",
   "metadata": {},
   "outputs": [
    {
     "name": "stderr",
     "output_type": "stream",
     "text": [
      "2024-12-31 15:43:40.943876: W tensorflow/core/common_runtime/gpu/gpu_device.cc:2343] Cannot dlopen some GPU libraries. Please make sure the missing libraries mentioned above are installed properly if you would like to use GPU. Follow the guide at https://www.tensorflow.org/install/gpu for how to download and setup the required libraries for your platform.\n",
      "Skipping registering GPU devices...\n",
      "/homes/t326h379/.local/lib/python3.10/site-packages/keras/src/layers/rnn/rnn.py:204: UserWarning: Do not pass an `input_shape`/`input_dim` argument to a layer. When using Sequential models, prefer using an `Input(shape)` object as the first layer in the model instead.\n",
      "  super().__init__(**kwargs)\n",
      "/homes/t326h379/.local/lib/python3.10/site-packages/keras/src/layers/convolutional/base_conv.py:107: UserWarning: Do not pass an `input_shape`/`input_dim` argument to a layer. When using Sequential models, prefer using an `Input(shape)` object as the first layer in the model instead.\n",
      "  super().__init__(activity_regularizer=activity_regularizer, **kwargs)\n",
      "/homes/t326h379/.local/lib/python3.10/site-packages/keras/src/layers/core/embedding.py:90: UserWarning: Argument `input_length` is deprecated. Just remove it.\n",
      "  warnings.warn(\n"
     ]
    }
   ],
   "source": [
    "# AAindex Model\n",
    "X_input_AAindex = tf.keras.Input(shape=(21,31))\n",
    "AAindex_output_1 = layers.LSTM(64,return_sequences=True,input_shape=(21,31))(X_input_AAindex)\n",
    "AAindex_output_2 = layers.Dropout(0.3)(AAindex_output_1)\n",
    "AAindex_output_3 = layers.Flatten()(AAindex_output_2)\n",
    "AAindex_output_4 = layers.Dense(32,activation='relu',kernel_regularizer=regularizers.l1(1e-4))(AAindex_output_3)\n",
    "AAindex_output_5 = layers.Dropout(0.3)(AAindex_output_4)\n",
    "AAindex_output_6_final = layers.Dense(2,activation='softmax',kernel_regularizer=regularizers.l1(1e-4))(AAindex_output_5)\n",
    "\n",
    "# One Hot Encoding Model\n",
    "X_input_21_One_HOT = tf.keras.Input(shape=(21,21))\n",
    "One_HOT_CONV_1D_1 = tf.keras.layers.Conv1D(16,3,activation='relu',kernel_regularizer=regularizers.l1(1e-4),input_shape=(21,21),padding='same')(X_input_21_One_HOT)\n",
    "One_HOT_CONV_1D_2 = tf.keras.layers.MaxPooling1D(2)(One_HOT_CONV_1D_1)\n",
    "One_HOT_CONV_1D_3 = tf.keras.layers.Flatten()(One_HOT_CONV_1D_2)\n",
    "One_HOT_CONV_1D_4 = tf.keras.layers.Dense(512,activation='relu',kernel_regularizer=regularizers.l1(1e-4))(One_HOT_CONV_1D_3)\n",
    "One_HOT_CONV_1D_5 = tf.keras.layers.Dropout(0.5)(One_HOT_CONV_1D_4)\n",
    "One_HOT_CONV_1D_output_6 = tf.keras.layers.Dense(2,activation='softmax',kernel_regularizer=regularizers.l1(1e-4))(One_HOT_CONV_1D_5)\n",
    "\n",
    "#Embedding Model\n",
    "X_input_Emb = tf.keras.Input(shape=(21,))\n",
    "emb_output = tf.keras.layers.Embedding(23, 21, input_length=21)(X_input_Emb)\n",
    "Conv1D_output = tf.keras.layers.Conv1D(256, kernel_size = 3,activation='relu',kernel_initializer='he_normal')(emb_output)\n",
    "Maxpool_output = tf.keras.layers.MaxPooling1D(2)(Conv1D_output)\n",
    "Dropout_layer = tf.keras.layers.Dropout(0.4)(Maxpool_output)\n",
    "\n",
    "Conv1D_1_output = tf.keras.layers.Conv1D(256,7,activation='relu',kernel_initializer='he_normal')(Dropout_layer)\n",
    "Conv1D_1_output_1 = tf.keras.layers.MaxPooling1D(2)(Conv1D_1_output)\n",
    "Conv1D_1_output_2 = tf.keras.layers.Dropout(0.4)(Conv1D_1_output_1)\n",
    "\n",
    "Flatten_layer_output = tf.keras.layers.Flatten()(Conv1D_1_output_2)\n",
    "Flatten_layer_output_1 = tf.keras.layers.Dense(768,activation='relu',kernel_initializer='he_normal')(Flatten_layer_output)\n",
    "Flatten_layer_output_2 = tf.keras.layers.Dropout(0.5)(Flatten_layer_output_1)\n",
    "Flatten_layer_output_3 = tf.keras.layers.Dense(256,activation='relu',kernel_initializer='he_normal')(Flatten_layer_output_2)\n",
    "Flatten_layer_output_4 = tf.keras.layers.Dropout(0.5)(Flatten_layer_output_3)\n",
    "Embedding_output_final_5 = tf.keras.layers.Dense(2,activation='softmax')(Flatten_layer_output_4)\n",
    "\n",
    "\n",
    "XX = tf.keras.layers.Concatenate()([AAindex_output_6_final, One_HOT_CONV_1D_output_6, Embedding_output_final_5])\n",
    "\n",
    "out = Dense(6)(XX)\n",
    "out_1 = Activation('relu')(out)\n",
    "\n",
    "out_2 = Dense(2)(out_1)\n",
    "out_Final = Activation('softmax')(out_2)\n",
    "\n",
    "model = Model(inputs=[X_input_AAindex, X_input_21_One_HOT, X_input_Emb], outputs=[out_Final])"
   ]
  },
  {
   "cell_type": "code",
   "execution_count": 57,
   "id": "b406f3fd",
   "metadata": {},
   "outputs": [
    {
     "data": {
      "text/html": [
       "<pre style=\"white-space:pre;overflow-x:auto;line-height:normal;font-family:Menlo,'DejaVu Sans Mono',consolas,'Courier New',monospace\"><span style=\"font-weight: bold\">Model: \"functional\"</span>\n",
       "</pre>\n"
      ],
      "text/plain": [
       "\u001b[1mModel: \"functional\"\u001b[0m\n"
      ]
     },
     "metadata": {},
     "output_type": "display_data"
    },
    {
     "data": {
      "text/html": [
       "<pre style=\"white-space:pre;overflow-x:auto;line-height:normal;font-family:Menlo,'DejaVu Sans Mono',consolas,'Courier New',monospace\">┏━━━━━━━━━━━━━━━━━━━━━┳━━━━━━━━━━━━━━━━━━━┳━━━━━━━━━━━━┳━━━━━━━━━━━━━━━━━━━┓\n",
       "┃<span style=\"font-weight: bold\"> Layer (type)        </span>┃<span style=\"font-weight: bold\"> Output Shape      </span>┃<span style=\"font-weight: bold\">    Param # </span>┃<span style=\"font-weight: bold\"> Connected to      </span>┃\n",
       "┡━━━━━━━━━━━━━━━━━━━━━╇━━━━━━━━━━━━━━━━━━━╇━━━━━━━━━━━━╇━━━━━━━━━━━━━━━━━━━┩\n",
       "│ input_layer_2       │ (<span style=\"color: #00d7ff; text-decoration-color: #00d7ff\">None</span>, <span style=\"color: #00af00; text-decoration-color: #00af00\">21</span>)        │          <span style=\"color: #00af00; text-decoration-color: #00af00\">0</span> │ -                 │\n",
       "│ (<span style=\"color: #0087ff; text-decoration-color: #0087ff\">InputLayer</span>)        │                   │            │                   │\n",
       "├─────────────────────┼───────────────────┼────────────┼───────────────────┤\n",
       "│ embedding           │ (<span style=\"color: #00d7ff; text-decoration-color: #00d7ff\">None</span>, <span style=\"color: #00af00; text-decoration-color: #00af00\">21</span>, <span style=\"color: #00af00; text-decoration-color: #00af00\">21</span>)    │        <span style=\"color: #00af00; text-decoration-color: #00af00\">483</span> │ input_layer_2[<span style=\"color: #00af00; text-decoration-color: #00af00\">0</span>]… │\n",
       "│ (<span style=\"color: #0087ff; text-decoration-color: #0087ff\">Embedding</span>)         │                   │            │                   │\n",
       "├─────────────────────┼───────────────────┼────────────┼───────────────────┤\n",
       "│ conv1d_1 (<span style=\"color: #0087ff; text-decoration-color: #0087ff\">Conv1D</span>)   │ (<span style=\"color: #00d7ff; text-decoration-color: #00d7ff\">None</span>, <span style=\"color: #00af00; text-decoration-color: #00af00\">19</span>, <span style=\"color: #00af00; text-decoration-color: #00af00\">256</span>)   │     <span style=\"color: #00af00; text-decoration-color: #00af00\">16,384</span> │ embedding[<span style=\"color: #00af00; text-decoration-color: #00af00\">0</span>][<span style=\"color: #00af00; text-decoration-color: #00af00\">0</span>]   │\n",
       "├─────────────────────┼───────────────────┼────────────┼───────────────────┤\n",
       "│ max_pooling1d_1     │ (<span style=\"color: #00d7ff; text-decoration-color: #00d7ff\">None</span>, <span style=\"color: #00af00; text-decoration-color: #00af00\">9</span>, <span style=\"color: #00af00; text-decoration-color: #00af00\">256</span>)    │          <span style=\"color: #00af00; text-decoration-color: #00af00\">0</span> │ conv1d_1[<span style=\"color: #00af00; text-decoration-color: #00af00\">0</span>][<span style=\"color: #00af00; text-decoration-color: #00af00\">0</span>]    │\n",
       "│ (<span style=\"color: #0087ff; text-decoration-color: #0087ff\">MaxPooling1D</span>)      │                   │            │                   │\n",
       "├─────────────────────┼───────────────────┼────────────┼───────────────────┤\n",
       "│ dropout_3 (<span style=\"color: #0087ff; text-decoration-color: #0087ff\">Dropout</span>) │ (<span style=\"color: #00d7ff; text-decoration-color: #00d7ff\">None</span>, <span style=\"color: #00af00; text-decoration-color: #00af00\">9</span>, <span style=\"color: #00af00; text-decoration-color: #00af00\">256</span>)    │          <span style=\"color: #00af00; text-decoration-color: #00af00\">0</span> │ max_pooling1d_1[<span style=\"color: #00af00; text-decoration-color: #00af00\">…</span> │\n",
       "├─────────────────────┼───────────────────┼────────────┼───────────────────┤\n",
       "│ conv1d_2 (<span style=\"color: #0087ff; text-decoration-color: #0087ff\">Conv1D</span>)   │ (<span style=\"color: #00d7ff; text-decoration-color: #00d7ff\">None</span>, <span style=\"color: #00af00; text-decoration-color: #00af00\">3</span>, <span style=\"color: #00af00; text-decoration-color: #00af00\">256</span>)    │    <span style=\"color: #00af00; text-decoration-color: #00af00\">459,008</span> │ dropout_3[<span style=\"color: #00af00; text-decoration-color: #00af00\">0</span>][<span style=\"color: #00af00; text-decoration-color: #00af00\">0</span>]   │\n",
       "├─────────────────────┼───────────────────┼────────────┼───────────────────┤\n",
       "│ max_pooling1d_2     │ (<span style=\"color: #00d7ff; text-decoration-color: #00d7ff\">None</span>, <span style=\"color: #00af00; text-decoration-color: #00af00\">1</span>, <span style=\"color: #00af00; text-decoration-color: #00af00\">256</span>)    │          <span style=\"color: #00af00; text-decoration-color: #00af00\">0</span> │ conv1d_2[<span style=\"color: #00af00; text-decoration-color: #00af00\">0</span>][<span style=\"color: #00af00; text-decoration-color: #00af00\">0</span>]    │\n",
       "│ (<span style=\"color: #0087ff; text-decoration-color: #0087ff\">MaxPooling1D</span>)      │                   │            │                   │\n",
       "├─────────────────────┼───────────────────┼────────────┼───────────────────┤\n",
       "│ input_layer         │ (<span style=\"color: #00d7ff; text-decoration-color: #00d7ff\">None</span>, <span style=\"color: #00af00; text-decoration-color: #00af00\">21</span>, <span style=\"color: #00af00; text-decoration-color: #00af00\">31</span>)    │          <span style=\"color: #00af00; text-decoration-color: #00af00\">0</span> │ -                 │\n",
       "│ (<span style=\"color: #0087ff; text-decoration-color: #0087ff\">InputLayer</span>)        │                   │            │                   │\n",
       "├─────────────────────┼───────────────────┼────────────┼───────────────────┤\n",
       "│ input_layer_1       │ (<span style=\"color: #00d7ff; text-decoration-color: #00d7ff\">None</span>, <span style=\"color: #00af00; text-decoration-color: #00af00\">21</span>, <span style=\"color: #00af00; text-decoration-color: #00af00\">21</span>)    │          <span style=\"color: #00af00; text-decoration-color: #00af00\">0</span> │ -                 │\n",
       "│ (<span style=\"color: #0087ff; text-decoration-color: #0087ff\">InputLayer</span>)        │                   │            │                   │\n",
       "├─────────────────────┼───────────────────┼────────────┼───────────────────┤\n",
       "│ dropout_4 (<span style=\"color: #0087ff; text-decoration-color: #0087ff\">Dropout</span>) │ (<span style=\"color: #00d7ff; text-decoration-color: #00d7ff\">None</span>, <span style=\"color: #00af00; text-decoration-color: #00af00\">1</span>, <span style=\"color: #00af00; text-decoration-color: #00af00\">256</span>)    │          <span style=\"color: #00af00; text-decoration-color: #00af00\">0</span> │ max_pooling1d_2[<span style=\"color: #00af00; text-decoration-color: #00af00\">…</span> │\n",
       "├─────────────────────┼───────────────────┼────────────┼───────────────────┤\n",
       "│ lstm (<span style=\"color: #0087ff; text-decoration-color: #0087ff\">LSTM</span>)         │ (<span style=\"color: #00d7ff; text-decoration-color: #00d7ff\">None</span>, <span style=\"color: #00af00; text-decoration-color: #00af00\">21</span>, <span style=\"color: #00af00; text-decoration-color: #00af00\">64</span>)    │     <span style=\"color: #00af00; text-decoration-color: #00af00\">24,576</span> │ input_layer[<span style=\"color: #00af00; text-decoration-color: #00af00\">0</span>][<span style=\"color: #00af00; text-decoration-color: #00af00\">0</span>] │\n",
       "├─────────────────────┼───────────────────┼────────────┼───────────────────┤\n",
       "│ conv1d (<span style=\"color: #0087ff; text-decoration-color: #0087ff\">Conv1D</span>)     │ (<span style=\"color: #00d7ff; text-decoration-color: #00d7ff\">None</span>, <span style=\"color: #00af00; text-decoration-color: #00af00\">21</span>, <span style=\"color: #00af00; text-decoration-color: #00af00\">16</span>)    │      <span style=\"color: #00af00; text-decoration-color: #00af00\">1,024</span> │ input_layer_1[<span style=\"color: #00af00; text-decoration-color: #00af00\">0</span>]… │\n",
       "├─────────────────────┼───────────────────┼────────────┼───────────────────┤\n",
       "│ flatten_2 (<span style=\"color: #0087ff; text-decoration-color: #0087ff\">Flatten</span>) │ (<span style=\"color: #00d7ff; text-decoration-color: #00d7ff\">None</span>, <span style=\"color: #00af00; text-decoration-color: #00af00\">256</span>)       │          <span style=\"color: #00af00; text-decoration-color: #00af00\">0</span> │ dropout_4[<span style=\"color: #00af00; text-decoration-color: #00af00\">0</span>][<span style=\"color: #00af00; text-decoration-color: #00af00\">0</span>]   │\n",
       "├─────────────────────┼───────────────────┼────────────┼───────────────────┤\n",
       "│ dropout (<span style=\"color: #0087ff; text-decoration-color: #0087ff\">Dropout</span>)   │ (<span style=\"color: #00d7ff; text-decoration-color: #00d7ff\">None</span>, <span style=\"color: #00af00; text-decoration-color: #00af00\">21</span>, <span style=\"color: #00af00; text-decoration-color: #00af00\">64</span>)    │          <span style=\"color: #00af00; text-decoration-color: #00af00\">0</span> │ lstm[<span style=\"color: #00af00; text-decoration-color: #00af00\">0</span>][<span style=\"color: #00af00; text-decoration-color: #00af00\">0</span>]        │\n",
       "├─────────────────────┼───────────────────┼────────────┼───────────────────┤\n",
       "│ max_pooling1d       │ (<span style=\"color: #00d7ff; text-decoration-color: #00d7ff\">None</span>, <span style=\"color: #00af00; text-decoration-color: #00af00\">10</span>, <span style=\"color: #00af00; text-decoration-color: #00af00\">16</span>)    │          <span style=\"color: #00af00; text-decoration-color: #00af00\">0</span> │ conv1d[<span style=\"color: #00af00; text-decoration-color: #00af00\">0</span>][<span style=\"color: #00af00; text-decoration-color: #00af00\">0</span>]      │\n",
       "│ (<span style=\"color: #0087ff; text-decoration-color: #0087ff\">MaxPooling1D</span>)      │                   │            │                   │\n",
       "├─────────────────────┼───────────────────┼────────────┼───────────────────┤\n",
       "│ dense_4 (<span style=\"color: #0087ff; text-decoration-color: #0087ff\">Dense</span>)     │ (<span style=\"color: #00d7ff; text-decoration-color: #00d7ff\">None</span>, <span style=\"color: #00af00; text-decoration-color: #00af00\">768</span>)       │    <span style=\"color: #00af00; text-decoration-color: #00af00\">197,376</span> │ flatten_2[<span style=\"color: #00af00; text-decoration-color: #00af00\">0</span>][<span style=\"color: #00af00; text-decoration-color: #00af00\">0</span>]   │\n",
       "├─────────────────────┼───────────────────┼────────────┼───────────────────┤\n",
       "│ flatten (<span style=\"color: #0087ff; text-decoration-color: #0087ff\">Flatten</span>)   │ (<span style=\"color: #00d7ff; text-decoration-color: #00d7ff\">None</span>, <span style=\"color: #00af00; text-decoration-color: #00af00\">1344</span>)      │          <span style=\"color: #00af00; text-decoration-color: #00af00\">0</span> │ dropout[<span style=\"color: #00af00; text-decoration-color: #00af00\">0</span>][<span style=\"color: #00af00; text-decoration-color: #00af00\">0</span>]     │\n",
       "├─────────────────────┼───────────────────┼────────────┼───────────────────┤\n",
       "│ flatten_1 (<span style=\"color: #0087ff; text-decoration-color: #0087ff\">Flatten</span>) │ (<span style=\"color: #00d7ff; text-decoration-color: #00d7ff\">None</span>, <span style=\"color: #00af00; text-decoration-color: #00af00\">160</span>)       │          <span style=\"color: #00af00; text-decoration-color: #00af00\">0</span> │ max_pooling1d[<span style=\"color: #00af00; text-decoration-color: #00af00\">0</span>]… │\n",
       "├─────────────────────┼───────────────────┼────────────┼───────────────────┤\n",
       "│ dropout_5 (<span style=\"color: #0087ff; text-decoration-color: #0087ff\">Dropout</span>) │ (<span style=\"color: #00d7ff; text-decoration-color: #00d7ff\">None</span>, <span style=\"color: #00af00; text-decoration-color: #00af00\">768</span>)       │          <span style=\"color: #00af00; text-decoration-color: #00af00\">0</span> │ dense_4[<span style=\"color: #00af00; text-decoration-color: #00af00\">0</span>][<span style=\"color: #00af00; text-decoration-color: #00af00\">0</span>]     │\n",
       "├─────────────────────┼───────────────────┼────────────┼───────────────────┤\n",
       "│ dense (<span style=\"color: #0087ff; text-decoration-color: #0087ff\">Dense</span>)       │ (<span style=\"color: #00d7ff; text-decoration-color: #00d7ff\">None</span>, <span style=\"color: #00af00; text-decoration-color: #00af00\">32</span>)        │     <span style=\"color: #00af00; text-decoration-color: #00af00\">43,040</span> │ flatten[<span style=\"color: #00af00; text-decoration-color: #00af00\">0</span>][<span style=\"color: #00af00; text-decoration-color: #00af00\">0</span>]     │\n",
       "├─────────────────────┼───────────────────┼────────────┼───────────────────┤\n",
       "│ dense_2 (<span style=\"color: #0087ff; text-decoration-color: #0087ff\">Dense</span>)     │ (<span style=\"color: #00d7ff; text-decoration-color: #00d7ff\">None</span>, <span style=\"color: #00af00; text-decoration-color: #00af00\">512</span>)       │     <span style=\"color: #00af00; text-decoration-color: #00af00\">82,432</span> │ flatten_1[<span style=\"color: #00af00; text-decoration-color: #00af00\">0</span>][<span style=\"color: #00af00; text-decoration-color: #00af00\">0</span>]   │\n",
       "├─────────────────────┼───────────────────┼────────────┼───────────────────┤\n",
       "│ dense_5 (<span style=\"color: #0087ff; text-decoration-color: #0087ff\">Dense</span>)     │ (<span style=\"color: #00d7ff; text-decoration-color: #00d7ff\">None</span>, <span style=\"color: #00af00; text-decoration-color: #00af00\">256</span>)       │    <span style=\"color: #00af00; text-decoration-color: #00af00\">196,864</span> │ dropout_5[<span style=\"color: #00af00; text-decoration-color: #00af00\">0</span>][<span style=\"color: #00af00; text-decoration-color: #00af00\">0</span>]   │\n",
       "├─────────────────────┼───────────────────┼────────────┼───────────────────┤\n",
       "│ dropout_1 (<span style=\"color: #0087ff; text-decoration-color: #0087ff\">Dropout</span>) │ (<span style=\"color: #00d7ff; text-decoration-color: #00d7ff\">None</span>, <span style=\"color: #00af00; text-decoration-color: #00af00\">32</span>)        │          <span style=\"color: #00af00; text-decoration-color: #00af00\">0</span> │ dense[<span style=\"color: #00af00; text-decoration-color: #00af00\">0</span>][<span style=\"color: #00af00; text-decoration-color: #00af00\">0</span>]       │\n",
       "├─────────────────────┼───────────────────┼────────────┼───────────────────┤\n",
       "│ dropout_2 (<span style=\"color: #0087ff; text-decoration-color: #0087ff\">Dropout</span>) │ (<span style=\"color: #00d7ff; text-decoration-color: #00d7ff\">None</span>, <span style=\"color: #00af00; text-decoration-color: #00af00\">512</span>)       │          <span style=\"color: #00af00; text-decoration-color: #00af00\">0</span> │ dense_2[<span style=\"color: #00af00; text-decoration-color: #00af00\">0</span>][<span style=\"color: #00af00; text-decoration-color: #00af00\">0</span>]     │\n",
       "├─────────────────────┼───────────────────┼────────────┼───────────────────┤\n",
       "│ dropout_6 (<span style=\"color: #0087ff; text-decoration-color: #0087ff\">Dropout</span>) │ (<span style=\"color: #00d7ff; text-decoration-color: #00d7ff\">None</span>, <span style=\"color: #00af00; text-decoration-color: #00af00\">256</span>)       │          <span style=\"color: #00af00; text-decoration-color: #00af00\">0</span> │ dense_5[<span style=\"color: #00af00; text-decoration-color: #00af00\">0</span>][<span style=\"color: #00af00; text-decoration-color: #00af00\">0</span>]     │\n",
       "├─────────────────────┼───────────────────┼────────────┼───────────────────┤\n",
       "│ dense_1 (<span style=\"color: #0087ff; text-decoration-color: #0087ff\">Dense</span>)     │ (<span style=\"color: #00d7ff; text-decoration-color: #00d7ff\">None</span>, <span style=\"color: #00af00; text-decoration-color: #00af00\">2</span>)         │         <span style=\"color: #00af00; text-decoration-color: #00af00\">66</span> │ dropout_1[<span style=\"color: #00af00; text-decoration-color: #00af00\">0</span>][<span style=\"color: #00af00; text-decoration-color: #00af00\">0</span>]   │\n",
       "├─────────────────────┼───────────────────┼────────────┼───────────────────┤\n",
       "│ dense_3 (<span style=\"color: #0087ff; text-decoration-color: #0087ff\">Dense</span>)     │ (<span style=\"color: #00d7ff; text-decoration-color: #00d7ff\">None</span>, <span style=\"color: #00af00; text-decoration-color: #00af00\">2</span>)         │      <span style=\"color: #00af00; text-decoration-color: #00af00\">1,026</span> │ dropout_2[<span style=\"color: #00af00; text-decoration-color: #00af00\">0</span>][<span style=\"color: #00af00; text-decoration-color: #00af00\">0</span>]   │\n",
       "├─────────────────────┼───────────────────┼────────────┼───────────────────┤\n",
       "│ dense_6 (<span style=\"color: #0087ff; text-decoration-color: #0087ff\">Dense</span>)     │ (<span style=\"color: #00d7ff; text-decoration-color: #00d7ff\">None</span>, <span style=\"color: #00af00; text-decoration-color: #00af00\">2</span>)         │        <span style=\"color: #00af00; text-decoration-color: #00af00\">514</span> │ dropout_6[<span style=\"color: #00af00; text-decoration-color: #00af00\">0</span>][<span style=\"color: #00af00; text-decoration-color: #00af00\">0</span>]   │\n",
       "├─────────────────────┼───────────────────┼────────────┼───────────────────┤\n",
       "│ concatenate         │ (<span style=\"color: #00d7ff; text-decoration-color: #00d7ff\">None</span>, <span style=\"color: #00af00; text-decoration-color: #00af00\">6</span>)         │          <span style=\"color: #00af00; text-decoration-color: #00af00\">0</span> │ dense_1[<span style=\"color: #00af00; text-decoration-color: #00af00\">0</span>][<span style=\"color: #00af00; text-decoration-color: #00af00\">0</span>],    │\n",
       "│ (<span style=\"color: #0087ff; text-decoration-color: #0087ff\">Concatenate</span>)       │                   │            │ dense_3[<span style=\"color: #00af00; text-decoration-color: #00af00\">0</span>][<span style=\"color: #00af00; text-decoration-color: #00af00\">0</span>],    │\n",
       "│                     │                   │            │ dense_6[<span style=\"color: #00af00; text-decoration-color: #00af00\">0</span>][<span style=\"color: #00af00; text-decoration-color: #00af00\">0</span>]     │\n",
       "├─────────────────────┼───────────────────┼────────────┼───────────────────┤\n",
       "│ dense_7 (<span style=\"color: #0087ff; text-decoration-color: #0087ff\">Dense</span>)     │ (<span style=\"color: #00d7ff; text-decoration-color: #00d7ff\">None</span>, <span style=\"color: #00af00; text-decoration-color: #00af00\">6</span>)         │         <span style=\"color: #00af00; text-decoration-color: #00af00\">42</span> │ concatenate[<span style=\"color: #00af00; text-decoration-color: #00af00\">0</span>][<span style=\"color: #00af00; text-decoration-color: #00af00\">0</span>] │\n",
       "├─────────────────────┼───────────────────┼────────────┼───────────────────┤\n",
       "│ activation          │ (<span style=\"color: #00d7ff; text-decoration-color: #00d7ff\">None</span>, <span style=\"color: #00af00; text-decoration-color: #00af00\">6</span>)         │          <span style=\"color: #00af00; text-decoration-color: #00af00\">0</span> │ dense_7[<span style=\"color: #00af00; text-decoration-color: #00af00\">0</span>][<span style=\"color: #00af00; text-decoration-color: #00af00\">0</span>]     │\n",
       "│ (<span style=\"color: #0087ff; text-decoration-color: #0087ff\">Activation</span>)        │                   │            │                   │\n",
       "├─────────────────────┼───────────────────┼────────────┼───────────────────┤\n",
       "│ dense_8 (<span style=\"color: #0087ff; text-decoration-color: #0087ff\">Dense</span>)     │ (<span style=\"color: #00d7ff; text-decoration-color: #00d7ff\">None</span>, <span style=\"color: #00af00; text-decoration-color: #00af00\">2</span>)         │         <span style=\"color: #00af00; text-decoration-color: #00af00\">14</span> │ activation[<span style=\"color: #00af00; text-decoration-color: #00af00\">0</span>][<span style=\"color: #00af00; text-decoration-color: #00af00\">0</span>]  │\n",
       "├─────────────────────┼───────────────────┼────────────┼───────────────────┤\n",
       "│ activation_1        │ (<span style=\"color: #00d7ff; text-decoration-color: #00d7ff\">None</span>, <span style=\"color: #00af00; text-decoration-color: #00af00\">2</span>)         │          <span style=\"color: #00af00; text-decoration-color: #00af00\">0</span> │ dense_8[<span style=\"color: #00af00; text-decoration-color: #00af00\">0</span>][<span style=\"color: #00af00; text-decoration-color: #00af00\">0</span>]     │\n",
       "│ (<span style=\"color: #0087ff; text-decoration-color: #0087ff\">Activation</span>)        │                   │            │                   │\n",
       "└─────────────────────┴───────────────────┴────────────┴───────────────────┘\n",
       "</pre>\n"
      ],
      "text/plain": [
       "┏━━━━━━━━━━━━━━━━━━━━━┳━━━━━━━━━━━━━━━━━━━┳━━━━━━━━━━━━┳━━━━━━━━━━━━━━━━━━━┓\n",
       "┃\u001b[1m \u001b[0m\u001b[1mLayer (type)       \u001b[0m\u001b[1m \u001b[0m┃\u001b[1m \u001b[0m\u001b[1mOutput Shape     \u001b[0m\u001b[1m \u001b[0m┃\u001b[1m \u001b[0m\u001b[1m   Param #\u001b[0m\u001b[1m \u001b[0m┃\u001b[1m \u001b[0m\u001b[1mConnected to     \u001b[0m\u001b[1m \u001b[0m┃\n",
       "┡━━━━━━━━━━━━━━━━━━━━━╇━━━━━━━━━━━━━━━━━━━╇━━━━━━━━━━━━╇━━━━━━━━━━━━━━━━━━━┩\n",
       "│ input_layer_2       │ (\u001b[38;5;45mNone\u001b[0m, \u001b[38;5;34m21\u001b[0m)        │          \u001b[38;5;34m0\u001b[0m │ -                 │\n",
       "│ (\u001b[38;5;33mInputLayer\u001b[0m)        │                   │            │                   │\n",
       "├─────────────────────┼───────────────────┼────────────┼───────────────────┤\n",
       "│ embedding           │ (\u001b[38;5;45mNone\u001b[0m, \u001b[38;5;34m21\u001b[0m, \u001b[38;5;34m21\u001b[0m)    │        \u001b[38;5;34m483\u001b[0m │ input_layer_2[\u001b[38;5;34m0\u001b[0m]… │\n",
       "│ (\u001b[38;5;33mEmbedding\u001b[0m)         │                   │            │                   │\n",
       "├─────────────────────┼───────────────────┼────────────┼───────────────────┤\n",
       "│ conv1d_1 (\u001b[38;5;33mConv1D\u001b[0m)   │ (\u001b[38;5;45mNone\u001b[0m, \u001b[38;5;34m19\u001b[0m, \u001b[38;5;34m256\u001b[0m)   │     \u001b[38;5;34m16,384\u001b[0m │ embedding[\u001b[38;5;34m0\u001b[0m][\u001b[38;5;34m0\u001b[0m]   │\n",
       "├─────────────────────┼───────────────────┼────────────┼───────────────────┤\n",
       "│ max_pooling1d_1     │ (\u001b[38;5;45mNone\u001b[0m, \u001b[38;5;34m9\u001b[0m, \u001b[38;5;34m256\u001b[0m)    │          \u001b[38;5;34m0\u001b[0m │ conv1d_1[\u001b[38;5;34m0\u001b[0m][\u001b[38;5;34m0\u001b[0m]    │\n",
       "│ (\u001b[38;5;33mMaxPooling1D\u001b[0m)      │                   │            │                   │\n",
       "├─────────────────────┼───────────────────┼────────────┼───────────────────┤\n",
       "│ dropout_3 (\u001b[38;5;33mDropout\u001b[0m) │ (\u001b[38;5;45mNone\u001b[0m, \u001b[38;5;34m9\u001b[0m, \u001b[38;5;34m256\u001b[0m)    │          \u001b[38;5;34m0\u001b[0m │ max_pooling1d_1[\u001b[38;5;34m…\u001b[0m │\n",
       "├─────────────────────┼───────────────────┼────────────┼───────────────────┤\n",
       "│ conv1d_2 (\u001b[38;5;33mConv1D\u001b[0m)   │ (\u001b[38;5;45mNone\u001b[0m, \u001b[38;5;34m3\u001b[0m, \u001b[38;5;34m256\u001b[0m)    │    \u001b[38;5;34m459,008\u001b[0m │ dropout_3[\u001b[38;5;34m0\u001b[0m][\u001b[38;5;34m0\u001b[0m]   │\n",
       "├─────────────────────┼───────────────────┼────────────┼───────────────────┤\n",
       "│ max_pooling1d_2     │ (\u001b[38;5;45mNone\u001b[0m, \u001b[38;5;34m1\u001b[0m, \u001b[38;5;34m256\u001b[0m)    │          \u001b[38;5;34m0\u001b[0m │ conv1d_2[\u001b[38;5;34m0\u001b[0m][\u001b[38;5;34m0\u001b[0m]    │\n",
       "│ (\u001b[38;5;33mMaxPooling1D\u001b[0m)      │                   │            │                   │\n",
       "├─────────────────────┼───────────────────┼────────────┼───────────────────┤\n",
       "│ input_layer         │ (\u001b[38;5;45mNone\u001b[0m, \u001b[38;5;34m21\u001b[0m, \u001b[38;5;34m31\u001b[0m)    │          \u001b[38;5;34m0\u001b[0m │ -                 │\n",
       "│ (\u001b[38;5;33mInputLayer\u001b[0m)        │                   │            │                   │\n",
       "├─────────────────────┼───────────────────┼────────────┼───────────────────┤\n",
       "│ input_layer_1       │ (\u001b[38;5;45mNone\u001b[0m, \u001b[38;5;34m21\u001b[0m, \u001b[38;5;34m21\u001b[0m)    │          \u001b[38;5;34m0\u001b[0m │ -                 │\n",
       "│ (\u001b[38;5;33mInputLayer\u001b[0m)        │                   │            │                   │\n",
       "├─────────────────────┼───────────────────┼────────────┼───────────────────┤\n",
       "│ dropout_4 (\u001b[38;5;33mDropout\u001b[0m) │ (\u001b[38;5;45mNone\u001b[0m, \u001b[38;5;34m1\u001b[0m, \u001b[38;5;34m256\u001b[0m)    │          \u001b[38;5;34m0\u001b[0m │ max_pooling1d_2[\u001b[38;5;34m…\u001b[0m │\n",
       "├─────────────────────┼───────────────────┼────────────┼───────────────────┤\n",
       "│ lstm (\u001b[38;5;33mLSTM\u001b[0m)         │ (\u001b[38;5;45mNone\u001b[0m, \u001b[38;5;34m21\u001b[0m, \u001b[38;5;34m64\u001b[0m)    │     \u001b[38;5;34m24,576\u001b[0m │ input_layer[\u001b[38;5;34m0\u001b[0m][\u001b[38;5;34m0\u001b[0m] │\n",
       "├─────────────────────┼───────────────────┼────────────┼───────────────────┤\n",
       "│ conv1d (\u001b[38;5;33mConv1D\u001b[0m)     │ (\u001b[38;5;45mNone\u001b[0m, \u001b[38;5;34m21\u001b[0m, \u001b[38;5;34m16\u001b[0m)    │      \u001b[38;5;34m1,024\u001b[0m │ input_layer_1[\u001b[38;5;34m0\u001b[0m]… │\n",
       "├─────────────────────┼───────────────────┼────────────┼───────────────────┤\n",
       "│ flatten_2 (\u001b[38;5;33mFlatten\u001b[0m) │ (\u001b[38;5;45mNone\u001b[0m, \u001b[38;5;34m256\u001b[0m)       │          \u001b[38;5;34m0\u001b[0m │ dropout_4[\u001b[38;5;34m0\u001b[0m][\u001b[38;5;34m0\u001b[0m]   │\n",
       "├─────────────────────┼───────────────────┼────────────┼───────────────────┤\n",
       "│ dropout (\u001b[38;5;33mDropout\u001b[0m)   │ (\u001b[38;5;45mNone\u001b[0m, \u001b[38;5;34m21\u001b[0m, \u001b[38;5;34m64\u001b[0m)    │          \u001b[38;5;34m0\u001b[0m │ lstm[\u001b[38;5;34m0\u001b[0m][\u001b[38;5;34m0\u001b[0m]        │\n",
       "├─────────────────────┼───────────────────┼────────────┼───────────────────┤\n",
       "│ max_pooling1d       │ (\u001b[38;5;45mNone\u001b[0m, \u001b[38;5;34m10\u001b[0m, \u001b[38;5;34m16\u001b[0m)    │          \u001b[38;5;34m0\u001b[0m │ conv1d[\u001b[38;5;34m0\u001b[0m][\u001b[38;5;34m0\u001b[0m]      │\n",
       "│ (\u001b[38;5;33mMaxPooling1D\u001b[0m)      │                   │            │                   │\n",
       "├─────────────────────┼───────────────────┼────────────┼───────────────────┤\n",
       "│ dense_4 (\u001b[38;5;33mDense\u001b[0m)     │ (\u001b[38;5;45mNone\u001b[0m, \u001b[38;5;34m768\u001b[0m)       │    \u001b[38;5;34m197,376\u001b[0m │ flatten_2[\u001b[38;5;34m0\u001b[0m][\u001b[38;5;34m0\u001b[0m]   │\n",
       "├─────────────────────┼───────────────────┼────────────┼───────────────────┤\n",
       "│ flatten (\u001b[38;5;33mFlatten\u001b[0m)   │ (\u001b[38;5;45mNone\u001b[0m, \u001b[38;5;34m1344\u001b[0m)      │          \u001b[38;5;34m0\u001b[0m │ dropout[\u001b[38;5;34m0\u001b[0m][\u001b[38;5;34m0\u001b[0m]     │\n",
       "├─────────────────────┼───────────────────┼────────────┼───────────────────┤\n",
       "│ flatten_1 (\u001b[38;5;33mFlatten\u001b[0m) │ (\u001b[38;5;45mNone\u001b[0m, \u001b[38;5;34m160\u001b[0m)       │          \u001b[38;5;34m0\u001b[0m │ max_pooling1d[\u001b[38;5;34m0\u001b[0m]… │\n",
       "├─────────────────────┼───────────────────┼────────────┼───────────────────┤\n",
       "│ dropout_5 (\u001b[38;5;33mDropout\u001b[0m) │ (\u001b[38;5;45mNone\u001b[0m, \u001b[38;5;34m768\u001b[0m)       │          \u001b[38;5;34m0\u001b[0m │ dense_4[\u001b[38;5;34m0\u001b[0m][\u001b[38;5;34m0\u001b[0m]     │\n",
       "├─────────────────────┼───────────────────┼────────────┼───────────────────┤\n",
       "│ dense (\u001b[38;5;33mDense\u001b[0m)       │ (\u001b[38;5;45mNone\u001b[0m, \u001b[38;5;34m32\u001b[0m)        │     \u001b[38;5;34m43,040\u001b[0m │ flatten[\u001b[38;5;34m0\u001b[0m][\u001b[38;5;34m0\u001b[0m]     │\n",
       "├─────────────────────┼───────────────────┼────────────┼───────────────────┤\n",
       "│ dense_2 (\u001b[38;5;33mDense\u001b[0m)     │ (\u001b[38;5;45mNone\u001b[0m, \u001b[38;5;34m512\u001b[0m)       │     \u001b[38;5;34m82,432\u001b[0m │ flatten_1[\u001b[38;5;34m0\u001b[0m][\u001b[38;5;34m0\u001b[0m]   │\n",
       "├─────────────────────┼───────────────────┼────────────┼───────────────────┤\n",
       "│ dense_5 (\u001b[38;5;33mDense\u001b[0m)     │ (\u001b[38;5;45mNone\u001b[0m, \u001b[38;5;34m256\u001b[0m)       │    \u001b[38;5;34m196,864\u001b[0m │ dropout_5[\u001b[38;5;34m0\u001b[0m][\u001b[38;5;34m0\u001b[0m]   │\n",
       "├─────────────────────┼───────────────────┼────────────┼───────────────────┤\n",
       "│ dropout_1 (\u001b[38;5;33mDropout\u001b[0m) │ (\u001b[38;5;45mNone\u001b[0m, \u001b[38;5;34m32\u001b[0m)        │          \u001b[38;5;34m0\u001b[0m │ dense[\u001b[38;5;34m0\u001b[0m][\u001b[38;5;34m0\u001b[0m]       │\n",
       "├─────────────────────┼───────────────────┼────────────┼───────────────────┤\n",
       "│ dropout_2 (\u001b[38;5;33mDropout\u001b[0m) │ (\u001b[38;5;45mNone\u001b[0m, \u001b[38;5;34m512\u001b[0m)       │          \u001b[38;5;34m0\u001b[0m │ dense_2[\u001b[38;5;34m0\u001b[0m][\u001b[38;5;34m0\u001b[0m]     │\n",
       "├─────────────────────┼───────────────────┼────────────┼───────────────────┤\n",
       "│ dropout_6 (\u001b[38;5;33mDropout\u001b[0m) │ (\u001b[38;5;45mNone\u001b[0m, \u001b[38;5;34m256\u001b[0m)       │          \u001b[38;5;34m0\u001b[0m │ dense_5[\u001b[38;5;34m0\u001b[0m][\u001b[38;5;34m0\u001b[0m]     │\n",
       "├─────────────────────┼───────────────────┼────────────┼───────────────────┤\n",
       "│ dense_1 (\u001b[38;5;33mDense\u001b[0m)     │ (\u001b[38;5;45mNone\u001b[0m, \u001b[38;5;34m2\u001b[0m)         │         \u001b[38;5;34m66\u001b[0m │ dropout_1[\u001b[38;5;34m0\u001b[0m][\u001b[38;5;34m0\u001b[0m]   │\n",
       "├─────────────────────┼───────────────────┼────────────┼───────────────────┤\n",
       "│ dense_3 (\u001b[38;5;33mDense\u001b[0m)     │ (\u001b[38;5;45mNone\u001b[0m, \u001b[38;5;34m2\u001b[0m)         │      \u001b[38;5;34m1,026\u001b[0m │ dropout_2[\u001b[38;5;34m0\u001b[0m][\u001b[38;5;34m0\u001b[0m]   │\n",
       "├─────────────────────┼───────────────────┼────────────┼───────────────────┤\n",
       "│ dense_6 (\u001b[38;5;33mDense\u001b[0m)     │ (\u001b[38;5;45mNone\u001b[0m, \u001b[38;5;34m2\u001b[0m)         │        \u001b[38;5;34m514\u001b[0m │ dropout_6[\u001b[38;5;34m0\u001b[0m][\u001b[38;5;34m0\u001b[0m]   │\n",
       "├─────────────────────┼───────────────────┼────────────┼───────────────────┤\n",
       "│ concatenate         │ (\u001b[38;5;45mNone\u001b[0m, \u001b[38;5;34m6\u001b[0m)         │          \u001b[38;5;34m0\u001b[0m │ dense_1[\u001b[38;5;34m0\u001b[0m][\u001b[38;5;34m0\u001b[0m],    │\n",
       "│ (\u001b[38;5;33mConcatenate\u001b[0m)       │                   │            │ dense_3[\u001b[38;5;34m0\u001b[0m][\u001b[38;5;34m0\u001b[0m],    │\n",
       "│                     │                   │            │ dense_6[\u001b[38;5;34m0\u001b[0m][\u001b[38;5;34m0\u001b[0m]     │\n",
       "├─────────────────────┼───────────────────┼────────────┼───────────────────┤\n",
       "│ dense_7 (\u001b[38;5;33mDense\u001b[0m)     │ (\u001b[38;5;45mNone\u001b[0m, \u001b[38;5;34m6\u001b[0m)         │         \u001b[38;5;34m42\u001b[0m │ concatenate[\u001b[38;5;34m0\u001b[0m][\u001b[38;5;34m0\u001b[0m] │\n",
       "├─────────────────────┼───────────────────┼────────────┼───────────────────┤\n",
       "│ activation          │ (\u001b[38;5;45mNone\u001b[0m, \u001b[38;5;34m6\u001b[0m)         │          \u001b[38;5;34m0\u001b[0m │ dense_7[\u001b[38;5;34m0\u001b[0m][\u001b[38;5;34m0\u001b[0m]     │\n",
       "│ (\u001b[38;5;33mActivation\u001b[0m)        │                   │            │                   │\n",
       "├─────────────────────┼───────────────────┼────────────┼───────────────────┤\n",
       "│ dense_8 (\u001b[38;5;33mDense\u001b[0m)     │ (\u001b[38;5;45mNone\u001b[0m, \u001b[38;5;34m2\u001b[0m)         │         \u001b[38;5;34m14\u001b[0m │ activation[\u001b[38;5;34m0\u001b[0m][\u001b[38;5;34m0\u001b[0m]  │\n",
       "├─────────────────────┼───────────────────┼────────────┼───────────────────┤\n",
       "│ activation_1        │ (\u001b[38;5;45mNone\u001b[0m, \u001b[38;5;34m2\u001b[0m)         │          \u001b[38;5;34m0\u001b[0m │ dense_8[\u001b[38;5;34m0\u001b[0m][\u001b[38;5;34m0\u001b[0m]     │\n",
       "│ (\u001b[38;5;33mActivation\u001b[0m)        │                   │            │                   │\n",
       "└─────────────────────┴───────────────────┴────────────┴───────────────────┘\n"
      ]
     },
     "metadata": {},
     "output_type": "display_data"
    },
    {
     "data": {
      "text/html": [
       "<pre style=\"white-space:pre;overflow-x:auto;line-height:normal;font-family:Menlo,'DejaVu Sans Mono',consolas,'Courier New',monospace\"><span style=\"font-weight: bold\"> Total params: </span><span style=\"color: #00af00; text-decoration-color: #00af00\">1,022,849</span> (3.90 MB)\n",
       "</pre>\n"
      ],
      "text/plain": [
       "\u001b[1m Total params: \u001b[0m\u001b[38;5;34m1,022,849\u001b[0m (3.90 MB)\n"
      ]
     },
     "metadata": {},
     "output_type": "display_data"
    },
    {
     "data": {
      "text/html": [
       "<pre style=\"white-space:pre;overflow-x:auto;line-height:normal;font-family:Menlo,'DejaVu Sans Mono',consolas,'Courier New',monospace\"><span style=\"font-weight: bold\"> Trainable params: </span><span style=\"color: #00af00; text-decoration-color: #00af00\">1,022,849</span> (3.90 MB)\n",
       "</pre>\n"
      ],
      "text/plain": [
       "\u001b[1m Trainable params: \u001b[0m\u001b[38;5;34m1,022,849\u001b[0m (3.90 MB)\n"
      ]
     },
     "metadata": {},
     "output_type": "display_data"
    },
    {
     "data": {
      "text/html": [
       "<pre style=\"white-space:pre;overflow-x:auto;line-height:normal;font-family:Menlo,'DejaVu Sans Mono',consolas,'Courier New',monospace\"><span style=\"font-weight: bold\"> Non-trainable params: </span><span style=\"color: #00af00; text-decoration-color: #00af00\">0</span> (0.00 B)\n",
       "</pre>\n"
      ],
      "text/plain": [
       "\u001b[1m Non-trainable params: \u001b[0m\u001b[38;5;34m0\u001b[0m (0.00 B)\n"
      ]
     },
     "metadata": {},
     "output_type": "display_data"
    }
   ],
   "source": [
    "model.summary()"
   ]
  },
  {
   "cell_type": "code",
   "execution_count": 58,
   "id": "24f8f582",
   "metadata": {},
   "outputs": [],
   "source": [
    "Y_train = tf.keras.utils.to_categorical(train_y,2)"
   ]
  },
  {
   "cell_type": "code",
   "execution_count": 59,
   "id": "536d42ac",
   "metadata": {},
   "outputs": [
    {
     "name": "stdout",
     "output_type": "stream",
     "text": [
      "Epoch 1/20\n"
     ]
    },
    {
     "name": "stderr",
     "output_type": "stream",
     "text": [
      "/homes/t326h379/.local/lib/python3.10/site-packages/keras/src/models/functional.py:225: UserWarning: The structure of `inputs` doesn't match the expected structure: ['keras_tensor', 'keras_tensor_7', 'keras_tensor_14']. Received: the structure of inputs=('*', '*', '*')\n",
      "  warnings.warn(\n"
     ]
    },
    {
     "name": "stdout",
     "output_type": "stream",
     "text": [
      "\u001b[1m6366/6366\u001b[0m \u001b[32m━━━━━━━━━━━━━━━━━━━━\u001b[0m\u001b[37m\u001b[0m \u001b[1m52s\u001b[0m 8ms/step - accuracy: 0.5180 - loss: 0.7141\n",
      "Epoch 2/20\n",
      "\u001b[1m6366/6366\u001b[0m \u001b[32m━━━━━━━━━━━━━━━━━━━━\u001b[0m\u001b[37m\u001b[0m \u001b[1m49s\u001b[0m 8ms/step - accuracy: 0.6043 - loss: 0.6671\n",
      "Epoch 3/20\n",
      "\u001b[1m6366/6366\u001b[0m \u001b[32m━━━━━━━━━━━━━━━━━━━━\u001b[0m\u001b[37m\u001b[0m \u001b[1m49s\u001b[0m 8ms/step - accuracy: 0.6281 - loss: 0.6541\n",
      "Epoch 4/20\n",
      "\u001b[1m6366/6366\u001b[0m \u001b[32m━━━━━━━━━━━━━━━━━━━━\u001b[0m\u001b[37m\u001b[0m \u001b[1m49s\u001b[0m 8ms/step - accuracy: 0.6375 - loss: 0.6489\n",
      "Epoch 5/20\n",
      "\u001b[1m6366/6366\u001b[0m \u001b[32m━━━━━━━━━━━━━━━━━━━━\u001b[0m\u001b[37m\u001b[0m \u001b[1m49s\u001b[0m 8ms/step - accuracy: 0.6421 - loss: 0.6454\n",
      "Epoch 6/20\n",
      "\u001b[1m6366/6366\u001b[0m \u001b[32m━━━━━━━━━━━━━━━━━━━━\u001b[0m\u001b[37m\u001b[0m \u001b[1m49s\u001b[0m 8ms/step - accuracy: 0.6466 - loss: 0.6425\n",
      "Epoch 7/20\n",
      "\u001b[1m6366/6366\u001b[0m \u001b[32m━━━━━━━━━━━━━━━━━━━━\u001b[0m\u001b[37m\u001b[0m \u001b[1m49s\u001b[0m 8ms/step - accuracy: 0.6482 - loss: 0.6411\n",
      "Epoch 8/20\n",
      "\u001b[1m6366/6366\u001b[0m \u001b[32m━━━━━━━━━━━━━━━━━━━━\u001b[0m\u001b[37m\u001b[0m \u001b[1m49s\u001b[0m 8ms/step - accuracy: 0.6502 - loss: 0.6391\n",
      "Epoch 9/20\n",
      "\u001b[1m6366/6366\u001b[0m \u001b[32m━━━━━━━━━━━━━━━━━━━━\u001b[0m\u001b[37m\u001b[0m \u001b[1m49s\u001b[0m 8ms/step - accuracy: 0.6510 - loss: 0.6385\n",
      "Epoch 10/20\n",
      "\u001b[1m6366/6366\u001b[0m \u001b[32m━━━━━━━━━━━━━━━━━━━━\u001b[0m\u001b[37m\u001b[0m \u001b[1m49s\u001b[0m 8ms/step - accuracy: 0.6579 - loss: 0.6347\n",
      "Epoch 11/20\n",
      "\u001b[1m6366/6366\u001b[0m \u001b[32m━━━━━━━━━━━━━━━━━━━━\u001b[0m\u001b[37m\u001b[0m \u001b[1m50s\u001b[0m 8ms/step - accuracy: 0.6580 - loss: 0.6360\n",
      "Epoch 12/20\n",
      "\u001b[1m6366/6366\u001b[0m \u001b[32m━━━━━━━━━━━━━━━━━━━━\u001b[0m\u001b[37m\u001b[0m \u001b[1m49s\u001b[0m 8ms/step - accuracy: 0.6591 - loss: 0.6340\n",
      "Epoch 13/20\n",
      "\u001b[1m6366/6366\u001b[0m \u001b[32m━━━━━━━━━━━━━━━━━━━━\u001b[0m\u001b[37m\u001b[0m \u001b[1m49s\u001b[0m 8ms/step - accuracy: 0.6618 - loss: 0.6319\n",
      "Epoch 14/20\n",
      "\u001b[1m6366/6366\u001b[0m \u001b[32m━━━━━━━━━━━━━━━━━━━━\u001b[0m\u001b[37m\u001b[0m \u001b[1m49s\u001b[0m 8ms/step - accuracy: 0.6627 - loss: 0.6306\n",
      "Epoch 15/20\n",
      "\u001b[1m6366/6366\u001b[0m \u001b[32m━━━━━━━━━━━━━━━━━━━━\u001b[0m\u001b[37m\u001b[0m \u001b[1m49s\u001b[0m 8ms/step - accuracy: 0.6667 - loss: 0.6295\n",
      "Epoch 16/20\n",
      "\u001b[1m6366/6366\u001b[0m \u001b[32m━━━━━━━━━━━━━━━━━━━━\u001b[0m\u001b[37m\u001b[0m \u001b[1m49s\u001b[0m 8ms/step - accuracy: 0.6682 - loss: 0.6287\n",
      "Epoch 17/20\n",
      "\u001b[1m6366/6366\u001b[0m \u001b[32m━━━━━━━━━━━━━━━━━━━━\u001b[0m\u001b[37m\u001b[0m \u001b[1m50s\u001b[0m 8ms/step - accuracy: 0.6683 - loss: 0.6264\n",
      "Epoch 18/20\n",
      "\u001b[1m6366/6366\u001b[0m \u001b[32m━━━━━━━━━━━━━━━━━━━━\u001b[0m\u001b[37m\u001b[0m \u001b[1m50s\u001b[0m 8ms/step - accuracy: 0.6656 - loss: 0.6280\n",
      "Epoch 19/20\n",
      "\u001b[1m6366/6366\u001b[0m \u001b[32m━━━━━━━━━━━━━━━━━━━━\u001b[0m\u001b[37m\u001b[0m \u001b[1m49s\u001b[0m 8ms/step - accuracy: 0.6698 - loss: 0.6253\n",
      "Epoch 20/20\n",
      "\u001b[1m6366/6366\u001b[0m \u001b[32m━━━━━━━━━━━━━━━━━━━━\u001b[0m\u001b[37m\u001b[0m \u001b[1m49s\u001b[0m 8ms/step - accuracy: 0.6708 - loss: 0.6240\n"
     ]
    }
   ],
   "source": [
    "optimize_2 = tf.keras.optimizers.Adam(learning_rate =0.001)\n",
    "optimize_3 = tf.keras.optimizers.Nadam()\n",
    "optimize_4 = tf.keras.optimizers.SGD()\n",
    "optimize_5 = tf.keras.optimizers.RMSprop()\n",
    "optimize_6 = tf.keras.optimizers.Adagrad()\n",
    "loss_1 = tf.keras.losses.categorical_crossentropy\n",
    "loss_2 = tf.keras.losses.binary_crossentropy\n",
    "\n",
    "model.compile(loss=loss_2,\n",
    "            optimizer=optimize_2,\n",
    "            metrics=['accuracy'])\n",
    "\n",
    "history = model.fit([AAindexCoding_Training, binaryCoding_Training, EmbeddingCoding_Training], Y_train, batch_size=32, epochs=20, verbose=1)"
   ]
  },
  {
   "cell_type": "code",
   "execution_count": 61,
   "id": "993eefdf",
   "metadata": {},
   "outputs": [
    {
     "name": "stdout",
     "output_type": "stream",
     "text": [
      "\u001b[1m65/65\u001b[0m \u001b[32m━━━━━━━━━━━━━━━━━━━━\u001b[0m\u001b[37m\u001b[0m \u001b[1m1s\u001b[0m 5ms/step\n",
      "Matthews Correlation :  0.4463005444829028\n",
      "Confusion Matrix : \n",
      " [[788 536]\n",
      " [102 650]]\n",
      "Accuracy on test set:    0.6926782273603083\n",
      "Sensitivity:    0.8643617021276596 \t Specificity:    0.595166163141994\n",
      "              precision    recall  f1-score   support\n",
      "\n",
      "           0       0.89      0.60      0.71      1324\n",
      "           1       0.55      0.86      0.67       752\n",
      "\n",
      "    accuracy                           0.69      2076\n",
      "   macro avg       0.72      0.73      0.69      2076\n",
      "weighted avg       0.76      0.69      0.70      2076\n",
      "\n",
      "Area Under Curve:    0.7297639326348269\n"
     ]
    }
   ],
   "source": [
    "X_independent = [AA_Index_X_Test, binaryCoding_X_Test, EmbeddingCoding_X_Test]\n",
    "Y_pred = model.predict(X_independent)\n",
    "Y_pred = (Y_pred > 0.5)\n",
    "y_pred = [np.argmax(y, axis=None, out=None) for y in Y_pred]\n",
    "y_pred = np.array(y_pred)\n",
    "\n",
    "confusion = confusion_matrix(y_independent,y_pred)\n",
    "\n",
    "print(\"Matthews Correlation : \",matthews_corrcoef(y_independent, y_pred))\n",
    "print(\"Confusion Matrix : \\n\",confusion_matrix(y_independent, y_pred))\n",
    "print(\"Accuracy on test set:   \",accuracy_score(y_independent, y_pred))\n",
    "\n",
    "cm = confusion_matrix(y_independent, y_pred)\n",
    "\n",
    "TP = cm[1][1]\n",
    "TN = cm[0][0]\n",
    "FP = cm[0][1]\n",
    "FN = cm[1][0]\n",
    "\n",
    "mcc = matthews_corrcoef(y_independent, y_pred)\n",
    "\n",
    "Sensitivity = TP/(TP+FN)\n",
    "\n",
    "Specificity = TN/(TN+FP)\n",
    "\n",
    "print(\"Sensitivity:   \",Sensitivity,\"\\t\",\"Specificity:   \",Specificity)\n",
    "\n",
    "print(classification_report(y_independent, y_pred))\n",
    "\n",
    "fpr, tpr, _ = roc_curve(y_independent, y_pred)\n",
    "\n",
    "roc_auc_test = auc(fpr,tpr)\n",
    "\n",
    "\n",
    "\n",
    "print(\"Area Under Curve:   \",roc_auc_test)"
   ]
  },
  {
   "cell_type": "code",
   "execution_count": 62,
   "id": "8f3f1def",
   "metadata": {},
   "outputs": [
    {
     "name": "stdout",
     "output_type": "stream",
     "text": [
      "0.5480607082630692\n"
     ]
    }
   ],
   "source": [
    "Precision= TP / (TP+FP)\n",
    "print(Precision)"
   ]
  },
  {
   "cell_type": "code",
   "execution_count": 63,
   "id": "41599759",
   "metadata": {},
   "outputs": [
    {
     "name": "stdout",
     "output_type": "stream",
     "text": [
      "0.8643617021276596\n"
     ]
    }
   ],
   "source": [
    "Recall = TP / (TP+FN)\n",
    "print(Recall)"
   ]
  },
  {
   "cell_type": "code",
   "execution_count": 64,
   "id": "b59ef655",
   "metadata": {},
   "outputs": [
    {
     "name": "stdout",
     "output_type": "stream",
     "text": [
      "0.6707946336429309\n"
     ]
    }
   ],
   "source": [
    "F1_Score = (2 * Precision * Recall) / ( Precision + Recall )\n",
    "print(F1_Score) "
   ]
  },
  {
   "cell_type": "markdown",
   "id": "43ceb389",
   "metadata": {},
   "source": [
    "# Thank You"
   ]
  }
 ],
 "metadata": {
  "kernelspec": {
   "display_name": "Python 3 (ipykernel)",
   "language": "python",
   "name": "python3"
  },
  "language_info": {
   "codemirror_mode": {
    "name": "ipython",
    "version": 3
   },
   "file_extension": ".py",
   "mimetype": "text/x-python",
   "name": "python",
   "nbconvert_exporter": "python",
   "pygments_lexer": "ipython3",
   "version": "3.10.4"
  }
 },
 "nbformat": 4,
 "nbformat_minor": 5
}
